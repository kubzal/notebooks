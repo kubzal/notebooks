{
 "cells": [
  {
   "cell_type": "markdown",
   "metadata": {},
   "source": [
    "Rewritten from: https://www.youtube.com/watch?v=qFJeN9V1ZsI"
   ]
  },
  {
   "cell_type": "markdown",
   "metadata": {},
   "source": [
    "### **Data Preparation and Processing**"
   ]
  },
  {
   "cell_type": "code",
   "execution_count": 1,
   "metadata": {},
   "outputs": [],
   "source": [
    "import numpy as np\n",
    "from random import randint\n",
    "from sklearn.utils import shuffle\n",
    "from sklearn.preprocessing import MinMaxScaler"
   ]
  },
  {
   "cell_type": "code",
   "execution_count": 2,
   "metadata": {},
   "outputs": [],
   "source": [
    "train_labels = []\n",
    "train_samples = []"
   ]
  },
  {
   "cell_type": "markdown",
   "metadata": {},
   "source": [
    "Example data:\n",
    "- An experimental drug was tested on individuals from age 13 ro 100 in a clinical trial.\n",
    "- The trial had 2100 participants. Half were under 65 years old, half were 65 years or older.\n",
    "- Arround 95% of patients 65 or older experienced side effects. \n",
    "- Arround 95% of patients under 65 experienced no side effects."
   ]
  },
  {
   "cell_type": "code",
   "execution_count": 3,
   "metadata": {},
   "outputs": [],
   "source": [
    "for i in range(50):\n",
    "    # The ~5% of younger individuals who did experience side effects\n",
    "    random_younger = randint(13, 64)\n",
    "    train_samples.append(random_younger)\n",
    "    train_labels.append(1)\n",
    "\n",
    "    # The ~5% of older individuals who did not experience side effects\n",
    "    random_older = randint(65, 100)\n",
    "    train_samples.append(random_older)\n",
    "    train_labels.append(0)\n",
    "\n",
    "for i in range(1000):\n",
    "    # The ~95% of younger individuals who did not experience side effects\n",
    "    random_younger = randint(13, 64)\n",
    "    train_samples.append(random_younger)\n",
    "    train_labels.append(0)\n",
    "\n",
    "    # The ~95% of older individuals who did experience side effects\n",
    "    random_older = randint(65, 100)\n",
    "    train_samples.append(random_older)\n",
    "    train_labels.append(1)"
   ]
  },
  {
   "cell_type": "code",
   "execution_count": 6,
   "metadata": {},
   "outputs": [],
   "source": [
    "# train_samples"
   ]
  },
  {
   "cell_type": "code",
   "execution_count": 7,
   "metadata": {},
   "outputs": [],
   "source": [
    "# train_labels"
   ]
  },
  {
   "cell_type": "code",
   "execution_count": 8,
   "metadata": {},
   "outputs": [],
   "source": [
    "train_labels = np.array(train_labels)\n",
    "train_samples = np.array(train_samples)\n",
    "\n",
    "train_labels, train_samples = shuffle(train_labels, train_samples)"
   ]
  },
  {
   "cell_type": "code",
   "execution_count": 11,
   "metadata": {},
   "outputs": [],
   "source": [
    "scaler = MinMaxScaler(feature_range=(0, 1))\n",
    "scaled_train_samples = scaler.fit_transform(train_samples.reshape(-1, 1))"
   ]
  },
  {
   "cell_type": "markdown",
   "metadata": {},
   "source": [
    "### **Simple `tf.keras` Sequential Model**"
   ]
  },
  {
   "cell_type": "code",
   "execution_count": 12,
   "metadata": {},
   "outputs": [],
   "source": [
    "import tensorflow as tf\n",
    "\n",
    "from tensorflow import keras\n",
    "from tensorflow.keras.models import Sequential\n",
    "from tensorflow.keras.layers import Activation, Dense\n",
    "from tensorflow.keras.optimizers import Adam\n",
    "from tensorflow.keras.metrics import categorical_crossentropy"
   ]
  },
  {
   "cell_type": "code",
   "execution_count": 18,
   "metadata": {},
   "outputs": [
    {
     "name": "stdout",
     "output_type": "stream",
     "text": [
      "Num GPUs Available:  0\n"
     ]
    }
   ],
   "source": [
    "# Only when you are running on a GPU\n",
    "\n",
    "physical_devices = tf.config.experimental.list_physical_devices(\"GPU\")\n",
    "print(\"Num GPUs Available: \", len(physical_devices))\n",
    "# tf.config.experimental.set_memory_growth(physical_devices[0], True)"
   ]
  },
  {
   "cell_type": "code",
   "execution_count": 19,
   "metadata": {},
   "outputs": [
    {
     "name": "stderr",
     "output_type": "stream",
     "text": [
      "/Users/kubzal/tensorflow_keras/env/lib/python3.12/site-packages/keras/src/layers/core/dense.py:87: UserWarning: Do not pass an `input_shape`/`input_dim` argument to a layer. When using Sequential models, prefer using an `Input(shape)` object as the first layer in the model instead.\n",
      "  super().__init__(activity_regularizer=activity_regularizer, **kwargs)\n"
     ]
    }
   ],
   "source": [
    "model = Sequential(\n",
    "    [\n",
    "        Dense(units=16, input_shape=(1,), activation=\"relu\"),\n",
    "        Dense(units=32, activation=\"relu\"),\n",
    "        Dense(units=2, activation=\"softmax\"),\n",
    "    ]\n",
    ")"
   ]
  },
  {
   "cell_type": "code",
   "execution_count": 20,
   "metadata": {},
   "outputs": [
    {
     "data": {
      "text/html": [
       "<pre style=\"white-space:pre;overflow-x:auto;line-height:normal;font-family:Menlo,'DejaVu Sans Mono',consolas,'Courier New',monospace\"><span style=\"font-weight: bold\">Model: \"sequential\"</span>\n",
       "</pre>\n"
      ],
      "text/plain": [
       "\u001b[1mModel: \"sequential\"\u001b[0m\n"
      ]
     },
     "metadata": {},
     "output_type": "display_data"
    },
    {
     "data": {
      "text/html": [
       "<pre style=\"white-space:pre;overflow-x:auto;line-height:normal;font-family:Menlo,'DejaVu Sans Mono',consolas,'Courier New',monospace\">┏━━━━━━━━━━━━━━━━━━━━━━━━━━━━━━━━━┳━━━━━━━━━━━━━━━━━━━━━━━━┳━━━━━━━━━━━━━━━┓\n",
       "┃<span style=\"font-weight: bold\"> Layer (type)                    </span>┃<span style=\"font-weight: bold\"> Output Shape           </span>┃<span style=\"font-weight: bold\">       Param # </span>┃\n",
       "┡━━━━━━━━━━━━━━━━━━━━━━━━━━━━━━━━━╇━━━━━━━━━━━━━━━━━━━━━━━━╇━━━━━━━━━━━━━━━┩\n",
       "│ dense (<span style=\"color: #0087ff; text-decoration-color: #0087ff\">Dense</span>)                   │ (<span style=\"color: #00d7ff; text-decoration-color: #00d7ff\">None</span>, <span style=\"color: #00af00; text-decoration-color: #00af00\">16</span>)             │            <span style=\"color: #00af00; text-decoration-color: #00af00\">32</span> │\n",
       "├─────────────────────────────────┼────────────────────────┼───────────────┤\n",
       "│ dense_1 (<span style=\"color: #0087ff; text-decoration-color: #0087ff\">Dense</span>)                 │ (<span style=\"color: #00d7ff; text-decoration-color: #00d7ff\">None</span>, <span style=\"color: #00af00; text-decoration-color: #00af00\">32</span>)             │           <span style=\"color: #00af00; text-decoration-color: #00af00\">544</span> │\n",
       "├─────────────────────────────────┼────────────────────────┼───────────────┤\n",
       "│ dense_2 (<span style=\"color: #0087ff; text-decoration-color: #0087ff\">Dense</span>)                 │ (<span style=\"color: #00d7ff; text-decoration-color: #00d7ff\">None</span>, <span style=\"color: #00af00; text-decoration-color: #00af00\">2</span>)              │            <span style=\"color: #00af00; text-decoration-color: #00af00\">66</span> │\n",
       "└─────────────────────────────────┴────────────────────────┴───────────────┘\n",
       "</pre>\n"
      ],
      "text/plain": [
       "┏━━━━━━━━━━━━━━━━━━━━━━━━━━━━━━━━━┳━━━━━━━━━━━━━━━━━━━━━━━━┳━━━━━━━━━━━━━━━┓\n",
       "┃\u001b[1m \u001b[0m\u001b[1mLayer (type)                   \u001b[0m\u001b[1m \u001b[0m┃\u001b[1m \u001b[0m\u001b[1mOutput Shape          \u001b[0m\u001b[1m \u001b[0m┃\u001b[1m \u001b[0m\u001b[1m      Param #\u001b[0m\u001b[1m \u001b[0m┃\n",
       "┡━━━━━━━━━━━━━━━━━━━━━━━━━━━━━━━━━╇━━━━━━━━━━━━━━━━━━━━━━━━╇━━━━━━━━━━━━━━━┩\n",
       "│ dense (\u001b[38;5;33mDense\u001b[0m)                   │ (\u001b[38;5;45mNone\u001b[0m, \u001b[38;5;34m16\u001b[0m)             │            \u001b[38;5;34m32\u001b[0m │\n",
       "├─────────────────────────────────┼────────────────────────┼───────────────┤\n",
       "│ dense_1 (\u001b[38;5;33mDense\u001b[0m)                 │ (\u001b[38;5;45mNone\u001b[0m, \u001b[38;5;34m32\u001b[0m)             │           \u001b[38;5;34m544\u001b[0m │\n",
       "├─────────────────────────────────┼────────────────────────┼───────────────┤\n",
       "│ dense_2 (\u001b[38;5;33mDense\u001b[0m)                 │ (\u001b[38;5;45mNone\u001b[0m, \u001b[38;5;34m2\u001b[0m)              │            \u001b[38;5;34m66\u001b[0m │\n",
       "└─────────────────────────────────┴────────────────────────┴───────────────┘\n"
      ]
     },
     "metadata": {},
     "output_type": "display_data"
    },
    {
     "data": {
      "text/html": [
       "<pre style=\"white-space:pre;overflow-x:auto;line-height:normal;font-family:Menlo,'DejaVu Sans Mono',consolas,'Courier New',monospace\"><span style=\"font-weight: bold\"> Total params: </span><span style=\"color: #00af00; text-decoration-color: #00af00\">642</span> (2.51 KB)\n",
       "</pre>\n"
      ],
      "text/plain": [
       "\u001b[1m Total params: \u001b[0m\u001b[38;5;34m642\u001b[0m (2.51 KB)\n"
      ]
     },
     "metadata": {},
     "output_type": "display_data"
    },
    {
     "data": {
      "text/html": [
       "<pre style=\"white-space:pre;overflow-x:auto;line-height:normal;font-family:Menlo,'DejaVu Sans Mono',consolas,'Courier New',monospace\"><span style=\"font-weight: bold\"> Trainable params: </span><span style=\"color: #00af00; text-decoration-color: #00af00\">642</span> (2.51 KB)\n",
       "</pre>\n"
      ],
      "text/plain": [
       "\u001b[1m Trainable params: \u001b[0m\u001b[38;5;34m642\u001b[0m (2.51 KB)\n"
      ]
     },
     "metadata": {},
     "output_type": "display_data"
    },
    {
     "data": {
      "text/html": [
       "<pre style=\"white-space:pre;overflow-x:auto;line-height:normal;font-family:Menlo,'DejaVu Sans Mono',consolas,'Courier New',monospace\"><span style=\"font-weight: bold\"> Non-trainable params: </span><span style=\"color: #00af00; text-decoration-color: #00af00\">0</span> (0.00 B)\n",
       "</pre>\n"
      ],
      "text/plain": [
       "\u001b[1m Non-trainable params: \u001b[0m\u001b[38;5;34m0\u001b[0m (0.00 B)\n"
      ]
     },
     "metadata": {},
     "output_type": "display_data"
    }
   ],
   "source": [
    "model.summary()"
   ]
  },
  {
   "cell_type": "code",
   "execution_count": 21,
   "metadata": {},
   "outputs": [],
   "source": [
    "model.compile(\n",
    "    optimizer=Adam(learning_rate=0.0001),\n",
    "    loss=\"sparse_categorical_crossentropy\",\n",
    "    metrics=[\"accuracy\"],\n",
    ")"
   ]
  },
  {
   "cell_type": "code",
   "execution_count": 22,
   "metadata": {},
   "outputs": [
    {
     "name": "stdout",
     "output_type": "stream",
     "text": [
      "Epoch 1/30\n",
      "210/210 - 1s - 6ms/step - accuracy: 0.5681 - loss: 0.6778\n",
      "Epoch 2/30\n",
      "210/210 - 0s - 1ms/step - accuracy: 0.6252 - loss: 0.6523\n",
      "Epoch 3/30\n",
      "210/210 - 0s - 978us/step - accuracy: 0.6976 - loss: 0.6263\n",
      "Epoch 4/30\n",
      "210/210 - 0s - 953us/step - accuracy: 0.7167 - loss: 0.5994\n",
      "Epoch 5/30\n",
      "210/210 - 0s - 953us/step - accuracy: 0.7505 - loss: 0.5710\n",
      "Epoch 6/30\n",
      "210/210 - 0s - 989us/step - accuracy: 0.7919 - loss: 0.5415\n",
      "Epoch 7/30\n",
      "210/210 - 0s - 938us/step - accuracy: 0.8095 - loss: 0.5119\n",
      "Epoch 8/30\n",
      "210/210 - 0s - 947us/step - accuracy: 0.8305 - loss: 0.4829\n",
      "Epoch 9/30\n",
      "210/210 - 0s - 985us/step - accuracy: 0.8438 - loss: 0.4549\n",
      "Epoch 10/30\n",
      "210/210 - 0s - 1ms/step - accuracy: 0.8614 - loss: 0.4291\n",
      "Epoch 11/30\n",
      "210/210 - 0s - 1ms/step - accuracy: 0.8700 - loss: 0.4050\n",
      "Epoch 12/30\n",
      "210/210 - 0s - 1ms/step - accuracy: 0.8857 - loss: 0.3837\n",
      "Epoch 13/30\n",
      "210/210 - 0s - 1ms/step - accuracy: 0.8910 - loss: 0.3649\n",
      "Epoch 14/30\n",
      "210/210 - 0s - 1ms/step - accuracy: 0.9052 - loss: 0.3488\n",
      "Epoch 15/30\n",
      "210/210 - 0s - 1ms/step - accuracy: 0.9076 - loss: 0.3354\n",
      "Epoch 16/30\n",
      "210/210 - 0s - 981us/step - accuracy: 0.9133 - loss: 0.3240\n",
      "Epoch 17/30\n",
      "210/210 - 0s - 1ms/step - accuracy: 0.9157 - loss: 0.3146\n",
      "Epoch 18/30\n",
      "210/210 - 0s - 1ms/step - accuracy: 0.9267 - loss: 0.3066\n",
      "Epoch 19/30\n",
      "210/210 - 0s - 1ms/step - accuracy: 0.9300 - loss: 0.2998\n",
      "Epoch 20/30\n",
      "210/210 - 0s - 1ms/step - accuracy: 0.9295 - loss: 0.2943\n",
      "Epoch 21/30\n",
      "210/210 - 0s - 1ms/step - accuracy: 0.9371 - loss: 0.2894\n",
      "Epoch 22/30\n",
      "210/210 - 0s - 1ms/step - accuracy: 0.9319 - loss: 0.2854\n",
      "Epoch 23/30\n",
      "210/210 - 0s - 918us/step - accuracy: 0.9386 - loss: 0.2819\n",
      "Epoch 24/30\n",
      "210/210 - 0s - 913us/step - accuracy: 0.9324 - loss: 0.2790\n",
      "Epoch 25/30\n",
      "210/210 - 0s - 926us/step - accuracy: 0.9390 - loss: 0.2764\n",
      "Epoch 26/30\n",
      "210/210 - 0s - 898us/step - accuracy: 0.9371 - loss: 0.2740\n",
      "Epoch 27/30\n",
      "210/210 - 0s - 907us/step - accuracy: 0.9390 - loss: 0.2719\n",
      "Epoch 28/30\n",
      "210/210 - 0s - 918us/step - accuracy: 0.9390 - loss: 0.2701\n",
      "Epoch 29/30\n",
      "210/210 - 0s - 932us/step - accuracy: 0.9400 - loss: 0.2685\n",
      "Epoch 30/30\n",
      "210/210 - 0s - 910us/step - accuracy: 0.9390 - loss: 0.2669\n"
     ]
    },
    {
     "data": {
      "text/plain": [
       "<keras.src.callbacks.history.History at 0x13922b110>"
      ]
     },
     "execution_count": 22,
     "metadata": {},
     "output_type": "execute_result"
    }
   ],
   "source": [
    "# model.fit(\n",
    "#     x=scaled_train_samples,\n",
    "#     y=train_labels,\n",
    "#     batch_size=10,\n",
    "#     epochs=30,\n",
    "#     shuffle=True,\n",
    "#     verbose=2,\n",
    "# )"
   ]
  },
  {
   "cell_type": "code",
   "execution_count": 23,
   "metadata": {},
   "outputs": [
    {
     "name": "stdout",
     "output_type": "stream",
     "text": [
      "Epoch 1/30\n",
      "189/189 - 0s - 2ms/step - accuracy: 0.9423 - loss: 0.2607 - val_accuracy: 0.9095 - val_loss: 0.3085\n",
      "Epoch 2/30\n",
      "189/189 - 0s - 1ms/step - accuracy: 0.9460 - loss: 0.2596 - val_accuracy: 0.9095 - val_loss: 0.3080\n",
      "Epoch 3/30\n",
      "189/189 - 0s - 1ms/step - accuracy: 0.9439 - loss: 0.2585 - val_accuracy: 0.9095 - val_loss: 0.3075\n",
      "Epoch 4/30\n",
      "189/189 - 0s - 1ms/step - accuracy: 0.9423 - loss: 0.2575 - val_accuracy: 0.9095 - val_loss: 0.3068\n",
      "Epoch 5/30\n",
      "189/189 - 0s - 2ms/step - accuracy: 0.9444 - loss: 0.2563 - val_accuracy: 0.9190 - val_loss: 0.3059\n",
      "Epoch 6/30\n",
      "189/189 - 0s - 2ms/step - accuracy: 0.9466 - loss: 0.2555 - val_accuracy: 0.9095 - val_loss: 0.3062\n",
      "Epoch 7/30\n",
      "189/189 - 0s - 1ms/step - accuracy: 0.9444 - loss: 0.2548 - val_accuracy: 0.9095 - val_loss: 0.3055\n",
      "Epoch 8/30\n",
      "189/189 - 0s - 1ms/step - accuracy: 0.9444 - loss: 0.2538 - val_accuracy: 0.9190 - val_loss: 0.3049\n",
      "Epoch 9/30\n",
      "189/189 - 0s - 1ms/step - accuracy: 0.9423 - loss: 0.2531 - val_accuracy: 0.9190 - val_loss: 0.3039\n",
      "Epoch 10/30\n",
      "189/189 - 0s - 1ms/step - accuracy: 0.9481 - loss: 0.2523 - val_accuracy: 0.9190 - val_loss: 0.3043\n",
      "Epoch 11/30\n",
      "189/189 - 0s - 2ms/step - accuracy: 0.9471 - loss: 0.2518 - val_accuracy: 0.9095 - val_loss: 0.3048\n",
      "Epoch 12/30\n",
      "189/189 - 0s - 2ms/step - accuracy: 0.9429 - loss: 0.2509 - val_accuracy: 0.9190 - val_loss: 0.3029\n",
      "Epoch 13/30\n",
      "189/189 - 0s - 1ms/step - accuracy: 0.9481 - loss: 0.2504 - val_accuracy: 0.9190 - val_loss: 0.3023\n",
      "Epoch 14/30\n",
      "189/189 - 0s - 1ms/step - accuracy: 0.9476 - loss: 0.2498 - val_accuracy: 0.9190 - val_loss: 0.3021\n",
      "Epoch 15/30\n",
      "189/189 - 0s - 1ms/step - accuracy: 0.9487 - loss: 0.2492 - val_accuracy: 0.9095 - val_loss: 0.3036\n",
      "Epoch 16/30\n",
      "189/189 - 0s - 1ms/step - accuracy: 0.9444 - loss: 0.2488 - val_accuracy: 0.9190 - val_loss: 0.3013\n",
      "Epoch 17/30\n",
      "189/189 - 0s - 1ms/step - accuracy: 0.9481 - loss: 0.2482 - val_accuracy: 0.9190 - val_loss: 0.3013\n",
      "Epoch 18/30\n",
      "189/189 - 0s - 1ms/step - accuracy: 0.9481 - loss: 0.2477 - val_accuracy: 0.9190 - val_loss: 0.3020\n",
      "Epoch 19/30\n",
      "189/189 - 0s - 1ms/step - accuracy: 0.9466 - loss: 0.2474 - val_accuracy: 0.9190 - val_loss: 0.3014\n",
      "Epoch 20/30\n",
      "189/189 - 0s - 1ms/step - accuracy: 0.9481 - loss: 0.2467 - val_accuracy: 0.9190 - val_loss: 0.3011\n",
      "Epoch 21/30\n",
      "189/189 - 0s - 1ms/step - accuracy: 0.9476 - loss: 0.2463 - val_accuracy: 0.9190 - val_loss: 0.2999\n",
      "Epoch 22/30\n",
      "189/189 - 0s - 1ms/step - accuracy: 0.9481 - loss: 0.2458 - val_accuracy: 0.9190 - val_loss: 0.3001\n",
      "Epoch 23/30\n",
      "189/189 - 0s - 1ms/step - accuracy: 0.9481 - loss: 0.2455 - val_accuracy: 0.9190 - val_loss: 0.3000\n",
      "Epoch 24/30\n",
      "189/189 - 0s - 1ms/step - accuracy: 0.9481 - loss: 0.2450 - val_accuracy: 0.9190 - val_loss: 0.2989\n",
      "Epoch 25/30\n",
      "189/189 - 0s - 1ms/step - accuracy: 0.9481 - loss: 0.2444 - val_accuracy: 0.9190 - val_loss: 0.2996\n",
      "Epoch 26/30\n",
      "189/189 - 0s - 1ms/step - accuracy: 0.9476 - loss: 0.2441 - val_accuracy: 0.9190 - val_loss: 0.2995\n",
      "Epoch 27/30\n",
      "189/189 - 0s - 1ms/step - accuracy: 0.9466 - loss: 0.2437 - val_accuracy: 0.9190 - val_loss: 0.2983\n",
      "Epoch 28/30\n",
      "189/189 - 0s - 1ms/step - accuracy: 0.9481 - loss: 0.2433 - val_accuracy: 0.9190 - val_loss: 0.2980\n",
      "Epoch 29/30\n",
      "189/189 - 0s - 1ms/step - accuracy: 0.9481 - loss: 0.2429 - val_accuracy: 0.9190 - val_loss: 0.2978\n",
      "Epoch 30/30\n",
      "189/189 - 0s - 1ms/step - accuracy: 0.9481 - loss: 0.2424 - val_accuracy: 0.9190 - val_loss: 0.2975\n"
     ]
    },
    {
     "data": {
      "text/plain": [
       "<keras.src.callbacks.history.History at 0x13942b350>"
      ]
     },
     "execution_count": 23,
     "metadata": {},
     "output_type": "execute_result"
    }
   ],
   "source": [
    "# with the validation set\n",
    "# Note: validation_split is done before shuffling\n",
    "\n",
    "model.fit(\n",
    "    x=scaled_train_samples,\n",
    "    y=train_labels,\n",
    "    validation_split=0.1,\n",
    "    batch_size=10,\n",
    "    epochs=30,\n",
    "    shuffle=True,\n",
    "    verbose=2,\n",
    ")"
   ]
  },
  {
   "cell_type": "markdown",
   "metadata": {},
   "source": [
    "### **Generating Test Dataset**"
   ]
  },
  {
   "cell_type": "code",
   "execution_count": 24,
   "metadata": {},
   "outputs": [],
   "source": [
    "test_labels = []\n",
    "test_samples = []"
   ]
  },
  {
   "cell_type": "code",
   "execution_count": 25,
   "metadata": {},
   "outputs": [],
   "source": [
    "for i in range(10):\n",
    "    # The ~5% of younger individuals who did experience side effects\n",
    "    random_younger = randint(13, 64)\n",
    "    test_samples.append(random_younger)\n",
    "    test_labels.append(1)\n",
    "\n",
    "    # The ~5% of older individuals who did not experience side effects\n",
    "    random_older = randint(65, 100)\n",
    "    test_samples.append(random_older)\n",
    "    test_labels.append(0)\n",
    "\n",
    "for i in range(200):\n",
    "    # The ~95% of younger individuals who did not experience side effects\n",
    "    random_younger = randint(13, 64)\n",
    "    test_samples.append(random_younger)\n",
    "    test_labels.append(0)\n",
    "\n",
    "    # The ~95% of older individuals who did experience side effects\n",
    "    random_older = randint(65, 100)\n",
    "    test_samples.append(random_older)\n",
    "    test_labels.append(1)"
   ]
  },
  {
   "cell_type": "code",
   "execution_count": 26,
   "metadata": {},
   "outputs": [],
   "source": [
    "test_labels = np.array(test_labels)\n",
    "test_samples = np.array(test_samples)\n",
    "test_labels, test_samples = shuffle(test_labels, test_samples)"
   ]
  },
  {
   "cell_type": "markdown",
   "metadata": {},
   "source": [
    "### **Predict**"
   ]
  },
  {
   "cell_type": "code",
   "execution_count": 27,
   "metadata": {},
   "outputs": [],
   "source": [
    "predictions = model.predict(\n",
    "    x=scaler.transform(test_samples.reshape(-1, 1)), batch_size=10, verbose=0\n",
    ")"
   ]
  },
  {
   "cell_type": "code",
   "execution_count": 29,
   "metadata": {},
   "outputs": [
    {
     "data": {
      "text/plain": [
       "array([[0.43038425, 0.5696157 ],\n",
       "       [0.03516308, 0.96483696],\n",
       "       [0.8168811 , 0.1831189 ],\n",
       "       [0.9618887 , 0.03811134],\n",
       "       [0.02206491, 0.9779351 ],\n",
       "       [0.94800526, 0.05199472],\n",
       "       [0.11083551, 0.8891644 ],\n",
       "       [0.9609355 , 0.03906445],\n",
       "       [0.96327657, 0.03672342],\n",
       "       [0.9298561 , 0.07014387],\n",
       "       [0.96061283, 0.03938721],\n",
       "       [0.02480527, 0.9751948 ],\n",
       "       [0.11083551, 0.8891644 ],\n",
       "       [0.9528009 , 0.04719904],\n",
       "       [0.5772748 , 0.42272532],\n",
       "       [0.12490136, 0.8750987 ],\n",
       "       [0.04426798, 0.9557319 ],\n",
       "       [0.04426798, 0.9557319 ],\n",
       "       [0.02480527, 0.9751948 ],\n",
       "       [0.57727474, 0.4227253 ],\n",
       "       [0.14090607, 0.85909384],\n",
       "       [0.01744333, 0.9825566 ],\n",
       "       [0.01377612, 0.9862238 ],\n",
       "       [0.9601452 , 0.03985468],\n",
       "       [0.96061283, 0.03938721],\n",
       "       [0.16010654, 0.8398934 ],\n",
       "       [0.21981376, 0.78018624],\n",
       "       [0.9637282 , 0.03627169],\n",
       "       [0.06963474, 0.9303653 ],\n",
       "       [0.9631248 , 0.03687521],\n",
       "       [0.5772748 , 0.42272532],\n",
       "       [0.0622341 , 0.9377658 ],\n",
       "       [0.04426798, 0.9557319 ],\n",
       "       [0.06963474, 0.93036526],\n",
       "       [0.06963474, 0.93036526],\n",
       "       [0.9638777 , 0.03612231],\n",
       "       [0.9627622 , 0.03723791],\n",
       "       [0.00599952, 0.9940005 ],\n",
       "       [0.9635783 , 0.03642167],\n",
       "       [0.96235675, 0.03764319],\n",
       "       [0.07836335, 0.92163664],\n",
       "       [0.21981376, 0.78018624],\n",
       "       [0.06963474, 0.93036526],\n",
       "       [0.09887797, 0.901122  ],\n",
       "       [0.11083551, 0.8891644 ],\n",
       "       [0.9634278 , 0.03657225],\n",
       "       [0.18784931, 0.8121507 ],\n",
       "       [0.7116635 , 0.28833658],\n",
       "       [0.9607744 , 0.03922552],\n",
       "       [0.00761257, 0.9923874 ],\n",
       "       [0.25550598, 0.74449396],\n",
       "       [0.02206491, 0.9779351 ],\n",
       "       [0.9601452 , 0.03985468],\n",
       "       [0.14090607, 0.85909384],\n",
       "       [0.00857376, 0.9914262 ],\n",
       "       [0.6245462 , 0.37545377],\n",
       "       [0.04962589, 0.9503741 ],\n",
       "       [0.01550336, 0.9844966 ],\n",
       "       [0.96281946, 0.03718058],\n",
       "       [0.02480527, 0.9751948 ],\n",
       "       [0.01223892, 0.9877611 ],\n",
       "       [0.9612558 , 0.03874422],\n",
       "       [0.3828242 , 0.6171758 ],\n",
       "       [0.43038425, 0.5696157 ],\n",
       "       [0.04962589, 0.9503741 ],\n",
       "       [0.9635783 , 0.03642167],\n",
       "       [0.9612558 , 0.03874422],\n",
       "       [0.0313152 , 0.9686848 ],\n",
       "       [0.47926417, 0.52073586],\n",
       "       [0.29480404, 0.70519596],\n",
       "       [0.04962589, 0.9503741 ],\n",
       "       [0.95045805, 0.04954192],\n",
       "       [0.00857376, 0.9914262 ],\n",
       "       [0.09887797, 0.901122  ],\n",
       "       [0.00761257, 0.9923874 ],\n",
       "       [0.9298561 , 0.07014387],\n",
       "       [0.02480527, 0.9751948 ],\n",
       "       [0.96312475, 0.03687521],\n",
       "       [0.47926417, 0.52073586],\n",
       "       [0.29480404, 0.70519596],\n",
       "       [0.96266586, 0.03733416],\n",
       "       [0.00761257, 0.9923874 ],\n",
       "       [0.96220136, 0.03779863],\n",
       "       [0.01087136, 0.98912865],\n",
       "       [0.6695574 , 0.3304426 ],\n",
       "       [0.25550598, 0.74449396],\n",
       "       [0.00965511, 0.9903448 ],\n",
       "       [0.01744333, 0.9825566 ],\n",
       "       [0.04426799, 0.955732  ],\n",
       "       [0.00965511, 0.9903448 ],\n",
       "       [0.94800526, 0.05199472],\n",
       "       [0.6245462 , 0.37545377],\n",
       "       [0.14090607, 0.85909384],\n",
       "       [0.29480407, 0.70519596],\n",
       "       [0.01744333, 0.9825566 ],\n",
       "       [0.9628194 , 0.03718058],\n",
       "       [0.9607744 , 0.03922552],\n",
       "       [0.86874926, 0.13125074],\n",
       "       [0.01550336, 0.9844966 ],\n",
       "       [0.14090608, 0.8590939 ],\n",
       "       [0.01377612, 0.9862238 ],\n",
       "       [0.9607744 , 0.03922552],\n",
       "       [0.3828242 , 0.6171758 ],\n",
       "       [0.94800526, 0.05199472],\n",
       "       [0.96235675, 0.03764319],\n",
       "       [0.01744333, 0.9825566 ],\n",
       "       [0.95735276, 0.04264721],\n",
       "       [0.9072576 , 0.09274241],\n",
       "       [0.5285446 , 0.4714553 ],\n",
       "       [0.02480527, 0.9751948 ],\n",
       "       [0.47926417, 0.52073586],\n",
       "       [0.00761257, 0.9923874 ],\n",
       "       [0.3828242 , 0.6171758 ],\n",
       "       [0.02787623, 0.9721238 ],\n",
       "       [0.92002547, 0.07997443],\n",
       "       [0.02480527, 0.9751948 ],\n",
       "       [0.00599952, 0.9940005 ],\n",
       "       [0.16010654, 0.8398934 ],\n",
       "       [0.96093553, 0.03906445],\n",
       "       [0.9635783 , 0.03642167],\n",
       "       [0.00857376, 0.9914262 ],\n",
       "       [0.9072576 , 0.09274241],\n",
       "       [0.96266586, 0.03733416],\n",
       "       [0.25550598, 0.74449396],\n",
       "       [0.8168811 , 0.1831189 ],\n",
       "       [0.47926417, 0.52073586],\n",
       "       [0.02480527, 0.9751948 ],\n",
       "       [0.00965511, 0.9903448 ],\n",
       "       [0.01377612, 0.9862238 ],\n",
       "       [0.96281946, 0.03718058],\n",
       "       [0.8168811 , 0.1831189 ],\n",
       "       [0.9635783 , 0.03642167],\n",
       "       [0.96266586, 0.03733416],\n",
       "       [0.3828242 , 0.6171758 ],\n",
       "       [0.0313152 , 0.9686848 ],\n",
       "       [0.09887797, 0.901122  ],\n",
       "       [0.00857376, 0.9914262 ],\n",
       "       [0.08808263, 0.9119174 ],\n",
       "       [0.5285446 , 0.4714553 ],\n",
       "       [0.8168811 , 0.1831189 ],\n",
       "       [0.01744333, 0.9825566 ],\n",
       "       [0.9629724 , 0.03702759],\n",
       "       [0.47926417, 0.52073586],\n",
       "       [0.01223892, 0.9877611 ],\n",
       "       [0.29480407, 0.70519596],\n",
       "       [0.21981376, 0.78018624],\n",
       "       [0.02206491, 0.9779351 ],\n",
       "       [0.14090607, 0.85909384],\n",
       "       [0.96093553, 0.03906445],\n",
       "       [0.06963474, 0.9303653 ],\n",
       "       [0.9614749 , 0.03852496],\n",
       "       [0.04426798, 0.9557319 ],\n",
       "       [0.02480527, 0.9751948 ],\n",
       "       [0.9614749 , 0.03852496],\n",
       "       [0.43038425, 0.5696157 ],\n",
       "       [0.9629724 , 0.03702759],\n",
       "       [0.785509  , 0.21449105],\n",
       "       [0.96327645, 0.03672342],\n",
       "       [0.9638777 , 0.03612231],\n",
       "       [0.96281946, 0.03718058],\n",
       "       [0.01087136, 0.98912865],\n",
       "       [0.02480527, 0.9751948 ],\n",
       "       [0.01744333, 0.9825566 ],\n",
       "       [0.5772748 , 0.42272532],\n",
       "       [0.0622341 , 0.9377658 ],\n",
       "       [0.01377612, 0.9862238 ],\n",
       "       [0.05559458, 0.9444053 ],\n",
       "       [0.337407  , 0.66259295],\n",
       "       [0.96281946, 0.03718058],\n",
       "       [0.9627621 , 0.03723791],\n",
       "       [0.6245462 , 0.37545377],\n",
       "       [0.0622341 , 0.9377658 ],\n",
       "       [0.9612558 , 0.03874422],\n",
       "       [0.02787623, 0.9721238 ],\n",
       "       [0.9298561 , 0.07014387],\n",
       "       [0.09887797, 0.901122  ],\n",
       "       [0.00965511, 0.9903448 ],\n",
       "       [0.9634278 , 0.03657225],\n",
       "       [0.9635783 , 0.03642167],\n",
       "       [0.8445725 , 0.15542749],\n",
       "       [0.02206491, 0.9779351 ],\n",
       "       [0.96220136, 0.03779863],\n",
       "       [0.6245462 , 0.37545377],\n",
       "       [0.96327645, 0.03672342],\n",
       "       [0.21981376, 0.78018624],\n",
       "       [0.9638777 , 0.03612231],\n",
       "       [0.0622341 , 0.9377658 ],\n",
       "       [0.7116635 , 0.28833658],\n",
       "       [0.08808263, 0.91191745],\n",
       "       [0.29480404, 0.70519596],\n",
       "       [0.9635783 , 0.03642167],\n",
       "       [0.96327645, 0.03672342],\n",
       "       [0.5285446 , 0.4714553 ],\n",
       "       [0.95045805, 0.04954192],\n",
       "       [0.9604505 , 0.03954955],\n",
       "       [0.9615734 , 0.03842654],\n",
       "       [0.86874926, 0.13125074],\n",
       "       [0.9610959 , 0.03890403],\n",
       "       [0.04426799, 0.955732  ],\n",
       "       [0.96220136, 0.03779863],\n",
       "       [0.04426798, 0.9557319 ],\n",
       "       [0.96235675, 0.03764319],\n",
       "       [0.9618887 , 0.03811134],\n",
       "       [0.6245462 , 0.37545377],\n",
       "       [0.95735276, 0.04264721],\n",
       "       [0.9635783 , 0.03642167],\n",
       "       [0.00965511, 0.9903448 ],\n",
       "       [0.3828242 , 0.6171758 ],\n",
       "       [0.9618887 , 0.03811134],\n",
       "       [0.01223892, 0.987761  ],\n",
       "       [0.43038425, 0.5696157 ],\n",
       "       [0.3828242 , 0.6171758 ],\n",
       "       [0.29480407, 0.70519596],\n",
       "       [0.43038425, 0.5696157 ],\n",
       "       [0.6695574 , 0.3304426 ],\n",
       "       [0.03516308, 0.96483696],\n",
       "       [0.01550336, 0.9844966 ],\n",
       "       [0.96220136, 0.03779863],\n",
       "       [0.945438  , 0.054562  ],\n",
       "       [0.01223892, 0.987761  ],\n",
       "       [0.25550598, 0.74449396],\n",
       "       [0.95877177, 0.04122833],\n",
       "       [0.3828242 , 0.6171758 ],\n",
       "       [0.08808263, 0.9119174 ],\n",
       "       [0.25550598, 0.74449396],\n",
       "       [0.96327645, 0.03672342],\n",
       "       [0.96251154, 0.03748837],\n",
       "       [0.945438  , 0.054562  ],\n",
       "       [0.961096  , 0.03890403],\n",
       "       [0.04962589, 0.95037407],\n",
       "       [0.01223892, 0.9877611 ],\n",
       "       [0.16010654, 0.8398934 ],\n",
       "       [0.9609355 , 0.03906445],\n",
       "       [0.9627622 , 0.03723791],\n",
       "       [0.9637282 , 0.03627169],\n",
       "       [0.03946449, 0.9605355 ],\n",
       "       [0.92002547, 0.07997443],\n",
       "       [0.04962589, 0.9503741 ],\n",
       "       [0.03946449, 0.96053547],\n",
       "       [0.9607744 , 0.03922552],\n",
       "       [0.96220136, 0.03779863],\n",
       "       [0.01744333, 0.9825566 ],\n",
       "       [0.01087136, 0.98912865],\n",
       "       [0.01744333, 0.9825566 ],\n",
       "       [0.9610959 , 0.03890403],\n",
       "       [0.6245462 , 0.37545377],\n",
       "       [0.02206491, 0.9779351 ],\n",
       "       [0.6695574 , 0.3304426 ],\n",
       "       [0.96093553, 0.03906445],\n",
       "       [0.9558873 , 0.04411267],\n",
       "       [0.96312475, 0.03687521],\n",
       "       [0.00675842, 0.9932415 ],\n",
       "       [0.02787623, 0.9721238 ],\n",
       "       [0.5285446 , 0.4714553 ],\n",
       "       [0.08808263, 0.9119174 ],\n",
       "       [0.9610959 , 0.03890403],\n",
       "       [0.00857376, 0.9914262 ],\n",
       "       [0.9601452 , 0.03985468],\n",
       "       [0.96141493, 0.03858506],\n",
       "       [0.03946449, 0.96053547],\n",
       "       [0.04962589, 0.9503741 ],\n",
       "       [0.9528009 , 0.04719904],\n",
       "       [0.00675842, 0.9932415 ],\n",
       "       [0.9298561 , 0.07014387],\n",
       "       [0.29480407, 0.70519596],\n",
       "       [0.96379125, 0.03620868],\n",
       "       [0.93701124, 0.06298872],\n",
       "       [0.12490136, 0.8750987 ],\n",
       "       [0.16010655, 0.83989346],\n",
       "       [0.9638777 , 0.03612231],\n",
       "       [0.02787623, 0.9721238 ],\n",
       "       [0.9618887 , 0.03811134],\n",
       "       [0.11083551, 0.8891644 ],\n",
       "       [0.01223892, 0.9877611 ],\n",
       "       [0.0313152 , 0.9686848 ],\n",
       "       [0.00965511, 0.9903448 ],\n",
       "       [0.08808263, 0.9119174 ],\n",
       "       [0.9618887 , 0.03811134],\n",
       "       [0.16010655, 0.83989346],\n",
       "       [0.96173143, 0.03826862],\n",
       "       [0.96061283, 0.03938721],\n",
       "       [0.337407  , 0.66259295],\n",
       "       [0.00857376, 0.9914262 ],\n",
       "       [0.93701124, 0.06298872],\n",
       "       [0.01550336, 0.9844966 ],\n",
       "       [0.03516308, 0.96483696],\n",
       "       [0.8168811 , 0.1831189 ],\n",
       "       [0.96220136, 0.03779863],\n",
       "       [0.96372825, 0.03627169],\n",
       "       [0.95045805, 0.04954192],\n",
       "       [0.7116635 , 0.28833658],\n",
       "       [0.03946449, 0.9605355 ],\n",
       "       [0.18784931, 0.8121507 ],\n",
       "       [0.43038425, 0.5696157 ],\n",
       "       [0.9618887 , 0.03811134],\n",
       "       [0.01744333, 0.9825566 ],\n",
       "       [0.96220136, 0.03779863],\n",
       "       [0.9614749 , 0.03852496],\n",
       "       [0.57727474, 0.4227253 ],\n",
       "       [0.9627621 , 0.03723791],\n",
       "       [0.6695574 , 0.3304426 ],\n",
       "       [0.05559458, 0.9444053 ],\n",
       "       [0.95735276, 0.04264721],\n",
       "       [0.01087136, 0.98912865],\n",
       "       [0.01377612, 0.9862238 ],\n",
       "       [0.0622341 , 0.9377658 ],\n",
       "       [0.02787623, 0.9721238 ],\n",
       "       [0.785509  , 0.21449105],\n",
       "       [0.2198138 , 0.7801863 ],\n",
       "       [0.00857376, 0.9914262 ],\n",
       "       [0.96251154, 0.03748837],\n",
       "       [0.16010654, 0.8398934 ],\n",
       "       [0.00761257, 0.9923874 ],\n",
       "       [0.01962123, 0.98037875],\n",
       "       [0.94800526, 0.05199472],\n",
       "       [0.95045805, 0.04954192],\n",
       "       [0.11083551, 0.8891644 ],\n",
       "       [0.02480527, 0.9751948 ],\n",
       "       [0.01962123, 0.98037875],\n",
       "       [0.9604505 , 0.03954955],\n",
       "       [0.8896566 , 0.1103434 ],\n",
       "       [0.96235675, 0.03764319],\n",
       "       [0.8168811 , 0.1831189 ],\n",
       "       [0.96327645, 0.03672342],\n",
       "       [0.8445725 , 0.15542749],\n",
       "       [0.92002547, 0.07997443],\n",
       "       [0.9614749 , 0.03852496],\n",
       "       [0.9634278 , 0.03657225],\n",
       "       [0.00965511, 0.9903448 ],\n",
       "       [0.9612558 , 0.03874422],\n",
       "       [0.11083551, 0.8891644 ],\n",
       "       [0.02787623, 0.9721238 ],\n",
       "       [0.18784931, 0.8121507 ],\n",
       "       [0.18784931, 0.8121507 ],\n",
       "       [0.9615734 , 0.03842654],\n",
       "       [0.18784931, 0.8121507 ],\n",
       "       [0.06963474, 0.93036526],\n",
       "       [0.9615734 , 0.03842654],\n",
       "       [0.06223411, 0.93776584],\n",
       "       [0.9543739 , 0.0456261 ],\n",
       "       [0.9614749 , 0.03852496],\n",
       "       [0.9419633 , 0.0580366 ],\n",
       "       [0.01223892, 0.9877611 ],\n",
       "       [0.01550336, 0.9844966 ],\n",
       "       [0.08808263, 0.9119174 ],\n",
       "       [0.9072576 , 0.09274241],\n",
       "       [0.01550336, 0.9844966 ],\n",
       "       [0.9627622 , 0.03723791],\n",
       "       [0.06223411, 0.93776584],\n",
       "       [0.961096  , 0.03890403],\n",
       "       [0.7116635 , 0.28833658],\n",
       "       [0.02787623, 0.9721238 ],\n",
       "       [0.9629724 , 0.03702759],\n",
       "       [0.0622341 , 0.9377658 ],\n",
       "       [0.8896566 , 0.1103434 ],\n",
       "       [0.96061283, 0.03938721],\n",
       "       [0.9628194 , 0.03718058],\n",
       "       [0.95045805, 0.04954192],\n",
       "       [0.961475  , 0.03852497],\n",
       "       [0.9601453 , 0.03985468],\n",
       "       [0.5772748 , 0.42272532],\n",
       "       [0.9635783 , 0.03642167],\n",
       "       [0.16010654, 0.8398934 ],\n",
       "       [0.93701124, 0.06298872],\n",
       "       [0.25550598, 0.74449396],\n",
       "       [0.09887797, 0.901122  ],\n",
       "       [0.04962589, 0.9503741 ],\n",
       "       [0.08808263, 0.9119174 ],\n",
       "       [0.18784931, 0.8121507 ],\n",
       "       [0.29480404, 0.70519596],\n",
       "       [0.8445725 , 0.15542749],\n",
       "       [0.8445725 , 0.15542749],\n",
       "       [0.07836335, 0.92163664],\n",
       "       [0.04426798, 0.9557319 ],\n",
       "       [0.9614149 , 0.03858506],\n",
       "       [0.86874926, 0.13125074],\n",
       "       [0.9628194 , 0.03718058],\n",
       "       [0.96220136, 0.03779863],\n",
       "       [0.9618887 , 0.03811134],\n",
       "       [0.00675842, 0.99324155],\n",
       "       [0.86874926, 0.13125074],\n",
       "       [0.04962589, 0.9503741 ],\n",
       "       [0.02787623, 0.9721238 ],\n",
       "       [0.6245462 , 0.37545377],\n",
       "       [0.21981376, 0.78018624],\n",
       "       [0.95588726, 0.04411267],\n",
       "       [0.93701124, 0.06298872],\n",
       "       [0.96251154, 0.03748837],\n",
       "       [0.96173143, 0.03826862],\n",
       "       [0.9637913 , 0.03620868],\n",
       "       [0.785509  , 0.21449105],\n",
       "       [0.00761257, 0.9923874 ],\n",
       "       [0.9617314 , 0.03826862],\n",
       "       [0.9601452 , 0.03985468],\n",
       "       [0.3828242 , 0.6171758 ],\n",
       "       [0.01377612, 0.9862238 ],\n",
       "       [0.9618887 , 0.03811134],\n",
       "       [0.01744333, 0.9825566 ],\n",
       "       [0.6695574 , 0.3304426 ],\n",
       "       [0.06963474, 0.9303653 ],\n",
       "       [0.7504045 , 0.24959551],\n",
       "       [0.6245462 , 0.37545377],\n",
       "       [0.95045805, 0.04954192],\n",
       "       [0.9607744 , 0.03922552],\n",
       "       [0.96266586, 0.03733416],\n",
       "       [0.9635783 , 0.03642167],\n",
       "       [0.9627622 , 0.03723791],\n",
       "       [0.47926417, 0.52073586],\n",
       "       [0.9072576 , 0.09274241],\n",
       "       [0.12490135, 0.87509865],\n",
       "       [0.06963474, 0.93036526],\n",
       "       [0.337407  , 0.66259295],\n",
       "       [0.02480527, 0.9751948 ],\n",
       "       [0.9620453 , 0.03795467],\n",
       "       [0.21981376, 0.78018624],\n",
       "       [0.11083551, 0.8891644 ],\n",
       "       [0.03946449, 0.9605355 ],\n",
       "       [0.07836335, 0.92163664],\n",
       "       [0.96297246, 0.0370276 ],\n",
       "       [0.93701124, 0.06298872]], dtype=float32)"
      ]
     },
     "execution_count": 29,
     "metadata": {},
     "output_type": "execute_result"
    }
   ],
   "source": [
    "predictions"
   ]
  },
  {
   "cell_type": "code",
   "execution_count": 30,
   "metadata": {},
   "outputs": [],
   "source": [
    "# Taking the argmax of the predictions to get the predicted class\n",
    "# (index of the class with the highest probability)\n",
    "\n",
    "rounded_predictions = np.argmax(predictions, axis=-1)"
   ]
  },
  {
   "cell_type": "code",
   "execution_count": 31,
   "metadata": {},
   "outputs": [
    {
     "data": {
      "text/plain": [
       "array([1, 1, 0, 0, 1, 0, 1, 0, 0, 0, 0, 1, 1, 0, 0, 1, 1, 1, 1, 0, 1, 1,\n",
       "       1, 0, 0, 1, 1, 0, 1, 0, 0, 1, 1, 1, 1, 0, 0, 1, 0, 0, 1, 1, 1, 1,\n",
       "       1, 0, 1, 0, 0, 1, 1, 1, 0, 1, 1, 0, 1, 1, 0, 1, 1, 0, 1, 1, 1, 0,\n",
       "       0, 1, 1, 1, 1, 0, 1, 1, 1, 0, 1, 0, 1, 1, 0, 1, 0, 1, 0, 1, 1, 1,\n",
       "       1, 1, 0, 0, 1, 1, 1, 0, 0, 0, 1, 1, 1, 0, 1, 0, 0, 1, 0, 0, 0, 1,\n",
       "       1, 1, 1, 1, 0, 1, 1, 1, 0, 0, 1, 0, 0, 1, 0, 1, 1, 1, 1, 0, 0, 0,\n",
       "       0, 1, 1, 1, 1, 1, 0, 0, 1, 0, 1, 1, 1, 1, 1, 1, 0, 1, 0, 1, 1, 0,\n",
       "       1, 0, 0, 0, 0, 0, 1, 1, 1, 0, 1, 1, 1, 1, 0, 0, 0, 1, 0, 1, 0, 1,\n",
       "       1, 0, 0, 0, 1, 0, 0, 0, 1, 0, 1, 0, 1, 1, 0, 0, 0, 0, 0, 0, 0, 0,\n",
       "       1, 0, 1, 0, 0, 0, 0, 0, 1, 1, 0, 1, 1, 1, 1, 1, 0, 1, 1, 0, 0, 1,\n",
       "       1, 0, 1, 1, 1, 0, 0, 0, 0, 1, 1, 1, 0, 0, 0, 1, 0, 1, 1, 0, 0, 1,\n",
       "       1, 1, 0, 0, 1, 0, 0, 0, 0, 1, 1, 0, 1, 0, 1, 0, 0, 1, 1, 0, 1, 0,\n",
       "       1, 0, 0, 1, 1, 0, 1, 0, 1, 1, 1, 1, 1, 0, 1, 0, 0, 1, 1, 0, 1, 1,\n",
       "       0, 0, 0, 0, 0, 1, 1, 1, 0, 1, 0, 0, 0, 0, 0, 1, 0, 1, 1, 1, 1, 0,\n",
       "       1, 1, 0, 1, 1, 1, 0, 0, 1, 1, 1, 0, 0, 0, 0, 0, 0, 0, 0, 0, 1, 0,\n",
       "       1, 1, 1, 1, 0, 1, 1, 0, 1, 0, 0, 0, 1, 1, 1, 0, 1, 0, 1, 0, 0, 1,\n",
       "       0, 1, 0, 0, 0, 0, 0, 0, 0, 0, 1, 0, 1, 1, 1, 1, 1, 1, 0, 0, 1, 1,\n",
       "       0, 0, 0, 0, 0, 1, 0, 1, 1, 0, 1, 0, 0, 0, 0, 0, 0, 1, 0, 0, 1, 1,\n",
       "       0, 1, 0, 1, 0, 0, 0, 0, 0, 0, 0, 1, 0, 1, 1, 1, 1, 0, 1, 1, 1, 1,\n",
       "       0, 0])"
      ]
     },
     "execution_count": 31,
     "metadata": {},
     "output_type": "execute_result"
    }
   ],
   "source": [
    "rounded_predictions"
   ]
  },
  {
   "cell_type": "markdown",
   "metadata": {},
   "source": [
    "### **Confusion Matrix**"
   ]
  },
  {
   "cell_type": "code",
   "execution_count": 33,
   "metadata": {},
   "outputs": [],
   "source": [
    "# %matplotlib inline\n",
    "from sklearn.metrics import confusion_matrix\n",
    "import itertools\n",
    "import matplotlib.pyplot as plt"
   ]
  },
  {
   "cell_type": "code",
   "execution_count": 34,
   "metadata": {},
   "outputs": [],
   "source": [
    "cm = confusion_matrix(y_true=test_labels, y_pred=rounded_predictions)"
   ]
  },
  {
   "cell_type": "code",
   "execution_count": 37,
   "metadata": {},
   "outputs": [],
   "source": [
    "# TODO: Fix the plot_confusion_matrix function, or replace it with some implementation from sklearn\n",
    "\n",
    "\n",
    "def plot_confusion_matrix(\n",
    "    cm, classes, normalize=False, title=\"Confusion matrix\", cmap=plt.cm.Blues\n",
    "):\n",
    "    \"\"\"\n",
    "    This function prints and plots the confusion matrix.\n",
    "    Normalization can be applied by setting '\n",
    "    normalize=True.\n",
    "    \"\"\"\n",
    "    plt.imshow(cm, interpolation=\"nearest\", cmap=cmap)\n",
    "    plt.title(title)\n",
    "    plt.colorbar()\n",
    "    tick_marks = np.arange(len(classes))\n",
    "    plt.xticks(tick_marks, classes, rotation=45)\n",
    "    plt.yticks(ticks=tick_marks, labels=classes)\n",
    "\n",
    "    if normalize:\n",
    "        cm = cm.astype(\"float\") / cm.sum(axis=1)[:, np.newaxis]\n",
    "        print(\"Normalized confusion matrix\")\n",
    "    else:\n",
    "        print(\"Confusion matrix, without normalization\")\n",
    "\n",
    "    print(cm)\n",
    "\n",
    "    thresh = cm.max() / 2.0\n",
    "    for i, j in itertools.product(range(cm.shape[0]), range(cm.shape[1])):\n",
    "        plt.text(\n",
    "            j,\n",
    "            i,\n",
    "            cm[i, j],\n",
    "            horizontalalignment=\"center\",  # Corrected typo here\n",
    "            color=\"white\" if cm[i, j] > thresh else \"black\",\n",
    "        )\n",
    "\n",
    "    plt.tight_layout()\n",
    "    plt.ylabel(\"True label\")\n",
    "    plt.xlabel(\"Predicted label\")"
   ]
  },
  {
   "cell_type": "code",
   "execution_count": 40,
   "metadata": {},
   "outputs": [
    {
     "name": "stdout",
     "output_type": "stream",
     "text": [
      "Confusion matrix, without normalization\n",
      "[[195  15]\n",
      " [  9 201]]\n"
     ]
    },
    {
     "data": {
      "image/png": "[encoded data removed]",
      "text/plain": [
       "<Figure size 640x480 with 2 Axes>"
      ]
     },
     "metadata": {},
     "output_type": "display_data"
    }
   ],
   "source": [
    "cm_plot_labels = [\"no_side_effects\", \"had_side_effects\"]\n",
    "plot_confusion_matrix(cm=cm, classes=cm_plot_labels, title=\"Confusion Matrix\")"
   ]
  },
  {
   "cell_type": "markdown",
   "metadata": {},
   "source": [
    "### **Save and Load a Model**"
   ]
  },
  {
   "cell_type": "markdown",
   "metadata": {},
   "source": [
    "#### **1. model.save()**"
   ]
  },
  {
   "cell_type": "code",
   "execution_count": 41,
   "metadata": {},
   "outputs": [
    {
     "data": {
      "text/html": [
       "<pre style=\"white-space:pre;overflow-x:auto;line-height:normal;font-family:Menlo,'DejaVu Sans Mono',consolas,'Courier New',monospace\"><span style=\"font-weight: bold\">Model: \"sequential\"</span>\n",
       "</pre>\n"
      ],
      "text/plain": [
       "\u001b[1mModel: \"sequential\"\u001b[0m\n"
      ]
     },
     "metadata": {},
     "output_type": "display_data"
    },
    {
     "data": {
      "text/html": [
       "<pre style=\"white-space:pre;overflow-x:auto;line-height:normal;font-family:Menlo,'DejaVu Sans Mono',consolas,'Courier New',monospace\">┏━━━━━━━━━━━━━━━━━━━━━━━━━━━━━━━━━┳━━━━━━━━━━━━━━━━━━━━━━━━┳━━━━━━━━━━━━━━━┓\n",
       "┃<span style=\"font-weight: bold\"> Layer (type)                    </span>┃<span style=\"font-weight: bold\"> Output Shape           </span>┃<span style=\"font-weight: bold\">       Param # </span>┃\n",
       "┡━━━━━━━━━━━━━━━━━━━━━━━━━━━━━━━━━╇━━━━━━━━━━━━━━━━━━━━━━━━╇━━━━━━━━━━━━━━━┩\n",
       "│ dense (<span style=\"color: #0087ff; text-decoration-color: #0087ff\">Dense</span>)                   │ (<span style=\"color: #00d7ff; text-decoration-color: #00d7ff\">None</span>, <span style=\"color: #00af00; text-decoration-color: #00af00\">16</span>)             │            <span style=\"color: #00af00; text-decoration-color: #00af00\">32</span> │\n",
       "├─────────────────────────────────┼────────────────────────┼───────────────┤\n",
       "│ dense_1 (<span style=\"color: #0087ff; text-decoration-color: #0087ff\">Dense</span>)                 │ (<span style=\"color: #00d7ff; text-decoration-color: #00d7ff\">None</span>, <span style=\"color: #00af00; text-decoration-color: #00af00\">32</span>)             │           <span style=\"color: #00af00; text-decoration-color: #00af00\">544</span> │\n",
       "├─────────────────────────────────┼────────────────────────┼───────────────┤\n",
       "│ dense_2 (<span style=\"color: #0087ff; text-decoration-color: #0087ff\">Dense</span>)                 │ (<span style=\"color: #00d7ff; text-decoration-color: #00d7ff\">None</span>, <span style=\"color: #00af00; text-decoration-color: #00af00\">2</span>)              │            <span style=\"color: #00af00; text-decoration-color: #00af00\">66</span> │\n",
       "└─────────────────────────────────┴────────────────────────┴───────────────┘\n",
       "</pre>\n"
      ],
      "text/plain": [
       "┏━━━━━━━━━━━━━━━━━━━━━━━━━━━━━━━━━┳━━━━━━━━━━━━━━━━━━━━━━━━┳━━━━━━━━━━━━━━━┓\n",
       "┃\u001b[1m \u001b[0m\u001b[1mLayer (type)                   \u001b[0m\u001b[1m \u001b[0m┃\u001b[1m \u001b[0m\u001b[1mOutput Shape          \u001b[0m\u001b[1m \u001b[0m┃\u001b[1m \u001b[0m\u001b[1m      Param #\u001b[0m\u001b[1m \u001b[0m┃\n",
       "┡━━━━━━━━━━━━━━━━━━━━━━━━━━━━━━━━━╇━━━━━━━━━━━━━━━━━━━━━━━━╇━━━━━━━━━━━━━━━┩\n",
       "│ dense (\u001b[38;5;33mDense\u001b[0m)                   │ (\u001b[38;5;45mNone\u001b[0m, \u001b[38;5;34m16\u001b[0m)             │            \u001b[38;5;34m32\u001b[0m │\n",
       "├─────────────────────────────────┼────────────────────────┼───────────────┤\n",
       "│ dense_1 (\u001b[38;5;33mDense\u001b[0m)                 │ (\u001b[38;5;45mNone\u001b[0m, \u001b[38;5;34m32\u001b[0m)             │           \u001b[38;5;34m544\u001b[0m │\n",
       "├─────────────────────────────────┼────────────────────────┼───────────────┤\n",
       "│ dense_2 (\u001b[38;5;33mDense\u001b[0m)                 │ (\u001b[38;5;45mNone\u001b[0m, \u001b[38;5;34m2\u001b[0m)              │            \u001b[38;5;34m66\u001b[0m │\n",
       "└─────────────────────────────────┴────────────────────────┴───────────────┘\n"
      ]
     },
     "metadata": {},
     "output_type": "display_data"
    },
    {
     "data": {
      "text/html": [
       "<pre style=\"white-space:pre;overflow-x:auto;line-height:normal;font-family:Menlo,'DejaVu Sans Mono',consolas,'Courier New',monospace\"><span style=\"font-weight: bold\"> Total params: </span><span style=\"color: #00af00; text-decoration-color: #00af00\">1,928</span> (7.54 KB)\n",
       "</pre>\n"
      ],
      "text/plain": [
       "\u001b[1m Total params: \u001b[0m\u001b[38;5;34m1,928\u001b[0m (7.54 KB)\n"
      ]
     },
     "metadata": {},
     "output_type": "display_data"
    },
    {
     "data": {
      "text/html": [
       "<pre style=\"white-space:pre;overflow-x:auto;line-height:normal;font-family:Menlo,'DejaVu Sans Mono',consolas,'Courier New',monospace\"><span style=\"font-weight: bold\"> Trainable params: </span><span style=\"color: #00af00; text-decoration-color: #00af00\">642</span> (2.51 KB)\n",
       "</pre>\n"
      ],
      "text/plain": [
       "\u001b[1m Trainable params: \u001b[0m\u001b[38;5;34m642\u001b[0m (2.51 KB)\n"
      ]
     },
     "metadata": {},
     "output_type": "display_data"
    },
    {
     "data": {
      "text/html": [
       "<pre style=\"white-space:pre;overflow-x:auto;line-height:normal;font-family:Menlo,'DejaVu Sans Mono',consolas,'Courier New',monospace\"><span style=\"font-weight: bold\"> Non-trainable params: </span><span style=\"color: #00af00; text-decoration-color: #00af00\">0</span> (0.00 B)\n",
       "</pre>\n"
      ],
      "text/plain": [
       "\u001b[1m Non-trainable params: \u001b[0m\u001b[38;5;34m0\u001b[0m (0.00 B)\n"
      ]
     },
     "metadata": {},
     "output_type": "display_data"
    },
    {
     "data": {
      "text/html": [
       "<pre style=\"white-space:pre;overflow-x:auto;line-height:normal;font-family:Menlo,'DejaVu Sans Mono',consolas,'Courier New',monospace\"><span style=\"font-weight: bold\"> Optimizer params: </span><span style=\"color: #00af00; text-decoration-color: #00af00\">1,286</span> (5.03 KB)\n",
       "</pre>\n"
      ],
      "text/plain": [
       "\u001b[1m Optimizer params: \u001b[0m\u001b[38;5;34m1,286\u001b[0m (5.03 KB)\n"
      ]
     },
     "metadata": {},
     "output_type": "display_data"
    }
   ],
   "source": [
    "model.summary()"
   ]
  },
  {
   "cell_type": "code",
   "execution_count": 42,
   "metadata": {},
   "outputs": [
    {
     "name": "stderr",
     "output_type": "stream",
     "text": [
      "WARNING:absl:You are saving your model as an HDF5 file via `model.save()` or `keras.saving.save_model(model)`. This file format is considered legacy. We recommend using instead the native Keras format, e.g. `model.save('my_model.keras')` or `keras.saving.save_model(model, 'my_model.keras')`. \n"
     ]
    }
   ],
   "source": [
    "# Check first to see if file exists already\n",
    "# If not, the model is saved to disk.\n",
    "\n",
    "import os.path\n",
    "if os.path.isfile(\"models/medical_trial_model.h5\") is False:\n",
    "    model.save(\"models/medical_trial_model.h5\")"
   ]
  },
  {
   "cell_type": "markdown",
   "metadata": {},
   "source": [
    "This save functions saves:\n",
    "- The architecture of the model, allowing to re-create the model.\n",
    "- The weights of the model.\n",
    "- The training configuration (loss, optimizer).\n",
    "- The state of the optimizer, allowing to resume training exactly where you left off."
   ]
  },
  {
   "cell_type": "code",
   "execution_count": 43,
   "metadata": {},
   "outputs": [
    {
     "name": "stderr",
     "output_type": "stream",
     "text": [
      "WARNING:absl:Compiled the loaded model, but the compiled metrics have yet to be built. `model.compile_metrics` will be empty until you train or evaluate the model.\n"
     ]
    }
   ],
   "source": [
    "from tensorflow.keras.models import load_model\n",
    "new_model = load_model(\"models/medical_trial_model.h5\")"
   ]
  },
  {
   "cell_type": "code",
   "execution_count": 44,
   "metadata": {},
   "outputs": [
    {
     "data": {
      "text/html": [
       "<pre style=\"white-space:pre;overflow-x:auto;line-height:normal;font-family:Menlo,'DejaVu Sans Mono',consolas,'Courier New',monospace\"><span style=\"font-weight: bold\">Model: \"sequential\"</span>\n",
       "</pre>\n"
      ],
      "text/plain": [
       "\u001b[1mModel: \"sequential\"\u001b[0m\n"
      ]
     },
     "metadata": {},
     "output_type": "display_data"
    },
    {
     "data": {
      "text/html": [
       "<pre style=\"white-space:pre;overflow-x:auto;line-height:normal;font-family:Menlo,'DejaVu Sans Mono',consolas,'Courier New',monospace\">┏━━━━━━━━━━━━━━━━━━━━━━━━━━━━━━━━━┳━━━━━━━━━━━━━━━━━━━━━━━━┳━━━━━━━━━━━━━━━┓\n",
       "┃<span style=\"font-weight: bold\"> Layer (type)                    </span>┃<span style=\"font-weight: bold\"> Output Shape           </span>┃<span style=\"font-weight: bold\">       Param # </span>┃\n",
       "┡━━━━━━━━━━━━━━━━━━━━━━━━━━━━━━━━━╇━━━━━━━━━━━━━━━━━━━━━━━━╇━━━━━━━━━━━━━━━┩\n",
       "│ dense (<span style=\"color: #0087ff; text-decoration-color: #0087ff\">Dense</span>)                   │ (<span style=\"color: #00d7ff; text-decoration-color: #00d7ff\">None</span>, <span style=\"color: #00af00; text-decoration-color: #00af00\">16</span>)             │            <span style=\"color: #00af00; text-decoration-color: #00af00\">32</span> │\n",
       "├─────────────────────────────────┼────────────────────────┼───────────────┤\n",
       "│ dense_1 (<span style=\"color: #0087ff; text-decoration-color: #0087ff\">Dense</span>)                 │ (<span style=\"color: #00d7ff; text-decoration-color: #00d7ff\">None</span>, <span style=\"color: #00af00; text-decoration-color: #00af00\">32</span>)             │           <span style=\"color: #00af00; text-decoration-color: #00af00\">544</span> │\n",
       "├─────────────────────────────────┼────────────────────────┼───────────────┤\n",
       "│ dense_2 (<span style=\"color: #0087ff; text-decoration-color: #0087ff\">Dense</span>)                 │ (<span style=\"color: #00d7ff; text-decoration-color: #00d7ff\">None</span>, <span style=\"color: #00af00; text-decoration-color: #00af00\">2</span>)              │            <span style=\"color: #00af00; text-decoration-color: #00af00\">66</span> │\n",
       "└─────────────────────────────────┴────────────────────────┴───────────────┘\n",
       "</pre>\n"
      ],
      "text/plain": [
       "┏━━━━━━━━━━━━━━━━━━━━━━━━━━━━━━━━━┳━━━━━━━━━━━━━━━━━━━━━━━━┳━━━━━━━━━━━━━━━┓\n",
       "┃\u001b[1m \u001b[0m\u001b[1mLayer (type)                   \u001b[0m\u001b[1m \u001b[0m┃\u001b[1m \u001b[0m\u001b[1mOutput Shape          \u001b[0m\u001b[1m \u001b[0m┃\u001b[1m \u001b[0m\u001b[1m      Param #\u001b[0m\u001b[1m \u001b[0m┃\n",
       "┡━━━━━━━━━━━━━━━━━━━━━━━━━━━━━━━━━╇━━━━━━━━━━━━━━━━━━━━━━━━╇━━━━━━━━━━━━━━━┩\n",
       "│ dense (\u001b[38;5;33mDense\u001b[0m)                   │ (\u001b[38;5;45mNone\u001b[0m, \u001b[38;5;34m16\u001b[0m)             │            \u001b[38;5;34m32\u001b[0m │\n",
       "├─────────────────────────────────┼────────────────────────┼───────────────┤\n",
       "│ dense_1 (\u001b[38;5;33mDense\u001b[0m)                 │ (\u001b[38;5;45mNone\u001b[0m, \u001b[38;5;34m32\u001b[0m)             │           \u001b[38;5;34m544\u001b[0m │\n",
       "├─────────────────────────────────┼────────────────────────┼───────────────┤\n",
       "│ dense_2 (\u001b[38;5;33mDense\u001b[0m)                 │ (\u001b[38;5;45mNone\u001b[0m, \u001b[38;5;34m2\u001b[0m)              │            \u001b[38;5;34m66\u001b[0m │\n",
       "└─────────────────────────────────┴────────────────────────┴───────────────┘\n"
      ]
     },
     "metadata": {},
     "output_type": "display_data"
    },
    {
     "data": {
      "text/html": [
       "<pre style=\"white-space:pre;overflow-x:auto;line-height:normal;font-family:Menlo,'DejaVu Sans Mono',consolas,'Courier New',monospace\"><span style=\"font-weight: bold\"> Total params: </span><span style=\"color: #00af00; text-decoration-color: #00af00\">644</span> (2.52 KB)\n",
       "</pre>\n"
      ],
      "text/plain": [
       "\u001b[1m Total params: \u001b[0m\u001b[38;5;34m644\u001b[0m (2.52 KB)\n"
      ]
     },
     "metadata": {},
     "output_type": "display_data"
    },
    {
     "data": {
      "text/html": [
       "<pre style=\"white-space:pre;overflow-x:auto;line-height:normal;font-family:Menlo,'DejaVu Sans Mono',consolas,'Courier New',monospace\"><span style=\"font-weight: bold\"> Trainable params: </span><span style=\"color: #00af00; text-decoration-color: #00af00\">642</span> (2.51 KB)\n",
       "</pre>\n"
      ],
      "text/plain": [
       "\u001b[1m Trainable params: \u001b[0m\u001b[38;5;34m642\u001b[0m (2.51 KB)\n"
      ]
     },
     "metadata": {},
     "output_type": "display_data"
    },
    {
     "data": {
      "text/html": [
       "<pre style=\"white-space:pre;overflow-x:auto;line-height:normal;font-family:Menlo,'DejaVu Sans Mono',consolas,'Courier New',monospace\"><span style=\"font-weight: bold\"> Non-trainable params: </span><span style=\"color: #00af00; text-decoration-color: #00af00\">0</span> (0.00 B)\n",
       "</pre>\n"
      ],
      "text/plain": [
       "\u001b[1m Non-trainable params: \u001b[0m\u001b[38;5;34m0\u001b[0m (0.00 B)\n"
      ]
     },
     "metadata": {},
     "output_type": "display_data"
    },
    {
     "data": {
      "text/html": [
       "<pre style=\"white-space:pre;overflow-x:auto;line-height:normal;font-family:Menlo,'DejaVu Sans Mono',consolas,'Courier New',monospace\"><span style=\"font-weight: bold\"> Optimizer params: </span><span style=\"color: #00af00; text-decoration-color: #00af00\">2</span> (12.00 B)\n",
       "</pre>\n"
      ],
      "text/plain": [
       "\u001b[1m Optimizer params: \u001b[0m\u001b[38;5;34m2\u001b[0m (12.00 B)\n"
      ]
     },
     "metadata": {},
     "output_type": "display_data"
    }
   ],
   "source": [
    "new_model.summary()"
   ]
  },
  {
   "cell_type": "code",
   "execution_count": 45,
   "metadata": {},
   "outputs": [
    {
     "data": {
      "text/plain": [
       "[array([[ 2.7195922e-01,  2.7729267e-01, -1.5948507e-01,  2.4409623e-01,\n",
       "         -4.0745670e-01,  5.8019888e-01,  4.6914348e-01,  1.0100777e-05,\n",
       "         -9.2161894e-03,  3.9938971e-01, -2.6507556e-02,  4.6812894e-04,\n",
       "         -1.7353693e-01, -7.6949835e-02, -5.5766106e-04, -5.4803854e-01]],\n",
       "       dtype=float32),\n",
       " array([-0.1085396 , -0.11533346,  0.        ,  0.1564037 ,  0.        ,\n",
       "        -0.15501794, -0.12145576, -0.00137475,  0.        , -0.14224476,\n",
       "         0.        , -0.00192856,  0.        ,  0.        ,  0.        ,\n",
       "         0.        ], dtype=float32),\n",
       " array([[-8.68847817e-02, -3.69961560e-02,  2.55636692e-01,\n",
       "         -5.28289020e-01, -4.66086924e-01,  4.26100880e-01,\n",
       "          4.20250371e-02, -1.16046749e-01,  3.52752954e-01,\n",
       "         -3.54248375e-01,  3.90967131e-02,  5.91757596e-01,\n",
       "          6.47287786e-01,  1.79997757e-01, -7.08821476e-01,\n",
       "          2.07936898e-01,  5.59457660e-01,  4.98828143e-01,\n",
       "         -5.06476462e-02, -7.63448298e-01, -4.59008187e-01,\n",
       "          6.96899071e-02, -1.48548931e-01, -4.80166703e-01,\n",
       "          5.05811572e-01,  6.94749057e-01,  2.19672471e-01,\n",
       "         -4.31036949e-03,  5.83524466e-01, -3.03605139e-01,\n",
       "          4.22146767e-01, -6.63981378e-01],\n",
       "        [-3.39855045e-01, -3.74278426e-02,  9.29996073e-02,\n",
       "         -2.43972942e-01, -4.35682654e-01,  5.93093753e-01,\n",
       "          3.47221881e-01,  3.01249892e-01,  5.33857703e-01,\n",
       "         -6.70148656e-02,  4.02848870e-01,  3.34188789e-01,\n",
       "          7.26877630e-01,  6.22064173e-01, -7.65925646e-01,\n",
       "          2.53492326e-01,  2.46353015e-01,  1.26096487e-01,\n",
       "         -1.74495324e-01, -3.88240367e-01, -4.94309038e-01,\n",
       "          3.41781706e-01, -7.51158774e-01, -4.21725094e-01,\n",
       "          4.64444697e-01,  6.86717033e-01, -6.69948459e-02,\n",
       "          1.01257861e-02,  6.19786799e-01, -4.06460762e-02,\n",
       "          6.58850849e-01, -4.19376075e-01],\n",
       "        [ 7.06468821e-02,  2.24003404e-01,  2.50431091e-01,\n",
       "         -3.52649599e-01, -9.06818807e-02, -9.96879041e-02,\n",
       "         -2.66724378e-01, -2.66037643e-01,  2.08317369e-01,\n",
       "         -3.70559394e-02, -2.79793113e-01,  2.80373544e-01,\n",
       "         -1.84975103e-01, -9.53920484e-02,  2.44538933e-01,\n",
       "         -9.42610800e-02,  1.09946966e-01,  1.73242062e-01,\n",
       "          2.18650997e-02, -1.62841171e-01,  1.78932756e-01,\n",
       "         -2.50899434e-01, -3.06630880e-01,  7.19690323e-03,\n",
       "         -3.52927685e-01,  9.92003083e-03, -4.50617969e-02,\n",
       "          3.15562278e-01,  2.30965465e-01,  1.77026778e-01,\n",
       "          1.69785708e-01, -2.08752498e-01],\n",
       "        [-2.90089279e-01, -4.83583137e-02,  2.35889778e-01,\n",
       "          3.33844215e-01, -3.05889118e-02,  1.78540990e-01,\n",
       "         -6.64133132e-02,  1.75658211e-01,  3.57820600e-01,\n",
       "          1.59980759e-01,  2.08026558e-01, -1.07610330e-01,\n",
       "          3.00762415e-01,  4.36970927e-02,  2.18952119e-01,\n",
       "          2.73020357e-01, -1.79649964e-02, -1.08157888e-01,\n",
       "          6.66119978e-02,  1.41171515e-01,  2.85208344e-01,\n",
       "         -1.91533174e-02, -2.11288035e-01,  2.31662273e-01,\n",
       "          1.84824109e-01,  3.60360771e-01, -2.83121347e-01,\n",
       "         -2.35154629e-01,  3.05762112e-01, -2.32482534e-02,\n",
       "          3.09125155e-01,  2.04043448e-01],\n",
       "        [ 9.97903943e-03, -4.29290831e-02,  1.82102054e-01,\n",
       "         -1.46961004e-01, -2.26760492e-01, -1.90956667e-01,\n",
       "          4.59415913e-02, -7.03308582e-02, -2.65443712e-01,\n",
       "         -1.87925100e-02, -1.98875472e-01,  2.70312756e-01,\n",
       "         -3.44903260e-01,  2.34151870e-01,  1.59656554e-01,\n",
       "          7.23145604e-02,  1.89290434e-01, -6.19727373e-03,\n",
       "          1.02802902e-01, -1.24871835e-01, -6.57994151e-02,\n",
       "          1.49928480e-01, -1.14347681e-01,  2.33055949e-02,\n",
       "          3.39187533e-01, -4.27065492e-02,  6.71943128e-02,\n",
       "          1.44725293e-01, -1.07397422e-01, -1.73142627e-01,\n",
       "         -3.41153711e-01, -1.97142303e-01],\n",
       "        [ 1.89806521e-01, -1.61348164e-01,  4.33702439e-01,\n",
       "         -2.56377995e-01, -2.36759767e-01,  4.92490351e-01,\n",
       "         -7.10570393e-03, -2.83372879e-01,  3.97872418e-01,\n",
       "         -1.86536580e-01,  1.07624464e-01,  2.60388404e-01,\n",
       "          5.98007977e-01,  3.81428361e-01, -3.98404419e-01,\n",
       "          3.41425210e-01,  4.93410856e-01,  3.36510360e-01,\n",
       "          2.27274261e-02, -6.16313159e-01, -6.20970607e-01,\n",
       "          3.24642807e-01, -2.36870170e-01, -4.25510891e-02,\n",
       "          5.44149220e-01,  3.51432681e-01, -3.35488915e-01,\n",
       "         -2.54691303e-01,  3.84194255e-01,  1.18922666e-01,\n",
       "          6.17977440e-01, -4.47710603e-01],\n",
       "        [ 2.95168668e-01,  1.27112195e-01,  3.45641315e-01,\n",
       "         -4.80935760e-02, -2.65430838e-01,  3.15959662e-01,\n",
       "         -2.56508067e-02, -2.71716863e-01,  4.30055827e-01,\n",
       "         -5.97835660e-01,  3.16120803e-01,  5.00475526e-01,\n",
       "         -5.98744974e-02,  3.50241289e-02, -5.70153780e-02,\n",
       "          4.43942189e-01,  3.75446200e-01,  4.18695003e-01,\n",
       "         -2.23353848e-01, -2.91134447e-01, -2.91141272e-01,\n",
       "          5.95359147e-01, -1.03890203e-01, -2.15234011e-02,\n",
       "          3.19497474e-02,  3.61007214e-01, -3.13805282e-01,\n",
       "         -2.30700076e-02,  5.28319478e-01, -2.80852866e-04,\n",
       "          5.63109398e-01, -2.33279899e-01],\n",
       "        [ 2.22350717e-01, -2.58126855e-01, -2.35306248e-01,\n",
       "          2.45706528e-01, -1.91945821e-01, -3.16594303e-01,\n",
       "         -1.06381916e-01,  6.89418241e-02, -2.73418576e-01,\n",
       "         -3.07587832e-01, -3.13012302e-01,  4.11036313e-02,\n",
       "          1.45789638e-01, -6.10561743e-02, -3.19645405e-01,\n",
       "          2.26054803e-01,  1.16293862e-01,  2.45599195e-01,\n",
       "         -1.46449059e-01, -1.31019562e-01,  2.62842476e-01,\n",
       "          2.58508265e-01, -1.34107918e-01, -5.47850281e-02,\n",
       "         -5.17225545e-03,  2.19404057e-01, -3.51214558e-01,\n",
       "         -1.96984500e-01, -2.44959861e-01,  1.39917940e-01,\n",
       "         -2.34790236e-01,  1.07805245e-01],\n",
       "        [-5.66745996e-02, -3.48922044e-01,  8.23706985e-02,\n",
       "         -8.42638612e-02, -1.74534231e-01, -2.44689256e-01,\n",
       "         -2.22476274e-01,  3.22542995e-01, -2.31176972e-01,\n",
       "          1.35051399e-01, -2.83454061e-01,  9.55904722e-02,\n",
       "          2.33052343e-01, -2.94239789e-01, -1.83054641e-01,\n",
       "         -1.95575535e-01,  2.85933048e-01, -1.00781977e-01,\n",
       "          2.82056004e-01, -3.41657609e-01, -3.47037226e-01,\n",
       "          2.93877333e-01, -5.11087775e-02,  8.13671947e-02,\n",
       "         -6.47918582e-02,  6.22500479e-02, -2.44329154e-01,\n",
       "         -4.94434834e-02, -2.93867379e-01,  3.10958534e-01,\n",
       "         -9.47721601e-02,  2.42910296e-01],\n",
       "        [-1.89332515e-01, -2.00224683e-01,  4.04456228e-01,\n",
       "         -4.90516238e-02, -1.31306976e-01,  1.61041647e-01,\n",
       "         -2.60428667e-01,  2.99914777e-01,  1.75361291e-01,\n",
       "         -9.35562477e-02,  5.78290820e-01,  2.67953336e-01,\n",
       "          3.20205331e-01,  3.94391567e-01, -6.25048816e-01,\n",
       "          2.38610670e-01,  2.80918600e-03,  4.58562106e-01,\n",
       "         -3.23249876e-01, -8.83321539e-02, -3.98766518e-01,\n",
       "          5.44437647e-01, -1.55812606e-01, -1.94458202e-01,\n",
       "          1.96879297e-01,  5.13302386e-01, -8.40434432e-03,\n",
       "         -2.22489253e-01,  2.50184894e-01, -2.96357363e-01,\n",
       "          3.40437174e-01, -6.55536711e-01],\n",
       "        [ 8.32214057e-02,  2.30047792e-01,  6.13125265e-02,\n",
       "          1.95922464e-01,  1.63735539e-01,  1.64310068e-01,\n",
       "         -9.75874960e-02,  2.72614509e-01,  1.73776001e-01,\n",
       "          1.25301778e-02, -3.42389703e-01,  3.37873489e-01,\n",
       "          8.84278715e-02, -1.84224129e-01, -3.13036025e-01,\n",
       "          3.09886336e-02,  1.84292346e-01,  1.57082051e-01,\n",
       "         -3.55932713e-02, -1.03775233e-01, -2.97803134e-01,\n",
       "          8.50439072e-03, -1.45131484e-01,  3.41997117e-01,\n",
       "         -2.98587412e-01, -1.21559262e-01,  2.02305287e-01,\n",
       "          3.46377641e-01,  5.74096441e-02, -6.62915111e-02,\n",
       "         -2.38100857e-01,  2.84171432e-01],\n",
       "        [-1.68004975e-01, -2.55249321e-01, -1.38802573e-01,\n",
       "          3.84658165e-02,  1.90477818e-01, -2.64128149e-01,\n",
       "         -1.39545172e-01,  2.57084757e-01, -9.63649601e-02,\n",
       "          1.82694271e-01, -3.28304619e-01,  2.75935441e-01,\n",
       "          3.23001534e-01, -2.82959640e-01,  1.68241560e-01,\n",
       "         -7.23376572e-02, -1.62782282e-01, -1.53110325e-01,\n",
       "          7.29683787e-02, -2.20107079e-01,  1.44717485e-01,\n",
       "         -2.52002716e-01, -6.98745102e-02, -2.00324714e-01,\n",
       "         -3.87692899e-02, -1.95047949e-02, -4.10099030e-02,\n",
       "          2.89962798e-01,  5.45861572e-02,  3.53707373e-02,\n",
       "          1.01456523e-01, -1.35420159e-01],\n",
       "        [ 3.01870733e-01,  1.56460315e-01, -2.07481846e-01,\n",
       "          9.84585881e-02, -4.41116095e-03, -9.04753804e-02,\n",
       "          1.76404685e-01, -4.08655405e-03, -1.36134654e-01,\n",
       "          2.59495109e-01, -5.14088571e-02,  8.64268243e-02,\n",
       "          4.80874479e-02, -3.18172574e-02, -2.56464243e-01,\n",
       "         -1.05930790e-01, -1.25918850e-01, -1.15950614e-01,\n",
       "          1.28837615e-01,  7.57360458e-02, -9.99051332e-02,\n",
       "         -2.58537233e-02,  2.95923948e-02, -1.74453646e-01,\n",
       "         -2.83891976e-01,  1.15410030e-01,  2.72727281e-01,\n",
       "         -2.06957713e-01, -3.03546399e-01,  3.24686736e-01,\n",
       "          3.31974357e-01,  2.57432163e-02],\n",
       "        [-4.53647673e-02,  2.08158284e-01, -7.67488182e-02,\n",
       "         -3.33541632e-02,  3.14122289e-01, -7.41814077e-02,\n",
       "          9.00652707e-02, -1.76738083e-01, -2.09425986e-02,\n",
       "         -2.12324694e-01, -3.31708074e-01,  2.65439004e-01,\n",
       "          1.74239844e-01,  7.48078823e-02,  6.40317798e-02,\n",
       "         -2.43426532e-01,  2.98238367e-01,  3.17706198e-01,\n",
       "          2.85105377e-01,  2.47943491e-01, -6.51462972e-02,\n",
       "         -3.06678504e-01,  1.73053294e-01, -4.85723913e-02,\n",
       "          8.26712251e-02, -3.38234425e-01,  3.21761757e-01,\n",
       "         -1.47551134e-01,  2.79830694e-02,  7.44926035e-02,\n",
       "         -1.29929289e-01, -2.57519603e-01],\n",
       "        [ 3.51681381e-01, -9.75941420e-02,  2.25142032e-01,\n",
       "          5.49329221e-02,  1.12176269e-01,  3.50166827e-01,\n",
       "          2.48252004e-01, -2.79736459e-01, -7.13978708e-02,\n",
       "         -3.07501465e-01,  1.87749058e-01, -1.41964152e-01,\n",
       "          4.12035286e-02, -2.36876488e-01, -1.66727453e-01,\n",
       "          1.61238998e-01, -5.62790930e-02, -2.93359160e-01,\n",
       "         -3.23580146e-01,  2.61182398e-01,  4.75983620e-02,\n",
       "         -2.41247803e-01,  8.11477602e-02, -2.32824668e-01,\n",
       "          1.83997184e-01,  2.64761597e-01,  4.31716144e-02,\n",
       "          1.73392564e-01,  6.91045523e-02, -1.52534083e-01,\n",
       "         -2.62030333e-01, -1.44018054e-01],\n",
       "        [-3.66137326e-02,  2.02029377e-01, -3.15710664e-01,\n",
       "         -9.85080600e-02,  1.37908369e-01, -6.44040108e-02,\n",
       "         -2.83491492e-01, -2.62189478e-01, -2.68929601e-01,\n",
       "          9.10368562e-02,  2.98386365e-01,  3.33140582e-01,\n",
       "         -1.50053397e-01,  1.58561140e-01,  3.20134133e-01,\n",
       "          2.87891477e-01, -2.36265957e-02, -2.23566949e-01,\n",
       "         -1.45192176e-01,  1.23312742e-01,  2.18397349e-01,\n",
       "          2.63440877e-01, -9.52764153e-02,  3.02228332e-02,\n",
       "          2.83888966e-01, -3.13097626e-01,  1.37435138e-01,\n",
       "         -1.91532478e-01, -1.88395903e-01,  3.00709993e-01,\n",
       "         -3.36259186e-01,  1.70564502e-01]], dtype=float32),\n",
       " array([ 0.01085143, -0.0017566 , -0.14154191,  0.20884039,  0.20080757,\n",
       "        -0.12360825, -0.00051127, -0.05012919, -0.1492806 ,  0.19505385,\n",
       "        -0.11974648, -0.06269928, -0.14426266, -0.08111222,  0.22786704,\n",
       "        -0.13827945, -0.08762507, -0.06503894,  0.20190902,  0.2551791 ,\n",
       "         0.2617813 , -0.09870899,  0.23310909,  0.20641068, -0.11728332,\n",
       "        -0.15567487,  0.        ,  0.        , -0.15852934, -0.00225926,\n",
       "        -0.16313124,  0.2562442 ], dtype=float32),\n",
       " array([[ 0.23246165,  0.2144747 ],\n",
       "        [-0.27871186,  0.12229756],\n",
       "        [-0.23386104,  0.37259832],\n",
       "        [ 0.41363844, -0.24033107],\n",
       "        [ 0.650286  , -0.8187654 ],\n",
       "        [-0.679298  ,  0.5065362 ],\n",
       "        [-0.00455229,  0.09265608],\n",
       "        [-0.20911662,  0.00934666],\n",
       "        [-0.6230733 ,  0.317466  ],\n",
       "        [ 0.798149  , -0.52722955],\n",
       "        [-0.6421765 ,  0.58938086],\n",
       "        [-0.67599434,  0.69678295],\n",
       "        [-0.6571171 , -0.04823221],\n",
       "        [-0.7521753 ,  0.27969834],\n",
       "        [ 0.8903293 , -0.91120034],\n",
       "        [ 0.14476801,  0.44475842],\n",
       "        [-0.7019513 , -0.02696713],\n",
       "        [-0.6966716 ,  0.33705893],\n",
       "        [ 0.5541451 , -0.27963033],\n",
       "        [ 0.7842664 , -0.53113693],\n",
       "        [ 0.6345377 , -0.54556817],\n",
       "        [-0.13075233,  0.6104328 ],\n",
       "        [ 0.79697114, -0.19858202],\n",
       "        [ 0.33649406, -0.22299993],\n",
       "        [-0.52277726,  0.5521278 ],\n",
       "        [-0.35931295,  0.36027837],\n",
       "        [-0.05200332,  0.25980625],\n",
       "        [ 0.09863177, -0.14643756],\n",
       "        [-0.40709937,  0.17222443],\n",
       "        [ 0.08713484,  0.18615675],\n",
       "        [-0.64834374, -0.12299712],\n",
       "        [ 0.5937233 , -0.6278555 ]], dtype=float32),\n",
       " array([ 0.18851124, -0.18851124], dtype=float32)]"
      ]
     },
     "execution_count": 45,
     "metadata": {},
     "output_type": "execute_result"
    }
   ],
   "source": [
    "new_model.get_weights()"
   ]
  },
  {
   "cell_type": "code",
   "execution_count": 46,
   "metadata": {},
   "outputs": [
    {
     "data": {
      "text/plain": [
       "<keras.src.optimizers.adam.Adam at 0x13ec2caa0>"
      ]
     },
     "execution_count": 46,
     "metadata": {},
     "output_type": "execute_result"
    }
   ],
   "source": [
    "new_model.optimizer"
   ]
  },
  {
   "cell_type": "markdown",
   "metadata": {},
   "source": [
    "#### **2. model.to_json()**\n",
    "\n",
    "If you only need to save the architecture of a model, and not its weights or its training configuration, you can use the following function to save the architecture only."
   ]
  },
  {
   "cell_type": "code",
   "execution_count": 50,
   "metadata": {},
   "outputs": [],
   "source": [
    "# save as JSON\n",
    "json_string = model.to_json()\n",
    "\n",
    "# save as YAML\n",
    "# yaml_string = model.to_yaml()"
   ]
  },
  {
   "cell_type": "code",
   "execution_count": 52,
   "metadata": {},
   "outputs": [
    {
     "data": {
      "text/plain": [
       "'{\"module\": \"keras\", \"class_name\": \"Sequential\", \"config\": {\"name\": \"sequential\", \"trainable\": true, \"dtype\": {\"module\": \"keras\", \"class_name\": \"DTypePolicy\", \"config\": {\"name\": \"float32\"}, \"registered_name\": null}, \"layers\": [{\"module\": \"keras.layers\", \"class_name\": \"InputLayer\", \"config\": {\"batch_shape\": [null, 1], \"dtype\": \"float32\", \"sparse\": false, \"name\": \"input_layer\"}, \"registered_name\": null}, {\"module\": \"keras.layers\", \"class_name\": \"Dense\", \"config\": {\"name\": \"dense\", \"trainable\": true, \"dtype\": {\"module\": \"keras\", \"class_name\": \"DTypePolicy\", \"config\": {\"name\": \"float32\"}, \"registered_name\": null}, \"units\": 16, \"activation\": \"relu\", \"use_bias\": true, \"kernel_initializer\": {\"module\": \"keras.initializers\", \"class_name\": \"GlorotUniform\", \"config\": {\"seed\": null}, \"registered_name\": null}, \"bias_initializer\": {\"module\": \"keras.initializers\", \"class_name\": \"Zeros\", \"config\": {}, \"registered_name\": null}, \"kernel_regularizer\": null, \"bias_regularizer\": null, \"kernel_constraint\": null, \"bias_constraint\": null}, \"registered_name\": null, \"build_config\": {\"input_shape\": [null, 1]}}, {\"module\": \"keras.layers\", \"class_name\": \"Dense\", \"config\": {\"name\": \"dense_1\", \"trainable\": true, \"dtype\": {\"module\": \"keras\", \"class_name\": \"DTypePolicy\", \"config\": {\"name\": \"float32\"}, \"registered_name\": null}, \"units\": 32, \"activation\": \"relu\", \"use_bias\": true, \"kernel_initializer\": {\"module\": \"keras.initializers\", \"class_name\": \"GlorotUniform\", \"config\": {\"seed\": null}, \"registered_name\": null}, \"bias_initializer\": {\"module\": \"keras.initializers\", \"class_name\": \"Zeros\", \"config\": {}, \"registered_name\": null}, \"kernel_regularizer\": null, \"bias_regularizer\": null, \"kernel_constraint\": null, \"bias_constraint\": null}, \"registered_name\": null, \"build_config\": {\"input_shape\": [null, 16]}}, {\"module\": \"keras.layers\", \"class_name\": \"Dense\", \"config\": {\"name\": \"dense_2\", \"trainable\": true, \"dtype\": {\"module\": \"keras\", \"class_name\": \"DTypePolicy\", \"config\": {\"name\": \"float32\"}, \"registered_name\": null}, \"units\": 2, \"activation\": \"softmax\", \"use_bias\": true, \"kernel_initializer\": {\"module\": \"keras.initializers\", \"class_name\": \"GlorotUniform\", \"config\": {\"seed\": null}, \"registered_name\": null}, \"bias_initializer\": {\"module\": \"keras.initializers\", \"class_name\": \"Zeros\", \"config\": {}, \"registered_name\": null}, \"kernel_regularizer\": null, \"bias_regularizer\": null, \"kernel_constraint\": null, \"bias_constraint\": null}, \"registered_name\": null, \"build_config\": {\"input_shape\": [null, 32]}}], \"build_input_shape\": [null, 1]}, \"registered_name\": null, \"build_config\": {\"input_shape\": [null, 1]}, \"compile_config\": {\"loss\": \"sparse_categorical_crossentropy\", \"loss_weights\": null, \"metrics\": [\"accuracy\"], \"weighted_metrics\": null, \"run_eagerly\": false, \"steps_per_execution\": 1, \"jit_compile\": false}}'"
      ]
     },
     "execution_count": 52,
     "metadata": {},
     "output_type": "execute_result"
    }
   ],
   "source": [
    "json_string"
   ]
  },
  {
   "cell_type": "code",
   "execution_count": 53,
   "metadata": {},
   "outputs": [
    {
     "data": {
      "text/html": [
       "<pre style=\"white-space:pre;overflow-x:auto;line-height:normal;font-family:Menlo,'DejaVu Sans Mono',consolas,'Courier New',monospace\"><span style=\"font-weight: bold\">Model: \"sequential\"</span>\n",
       "</pre>\n"
      ],
      "text/plain": [
       "\u001b[1mModel: \"sequential\"\u001b[0m\n"
      ]
     },
     "metadata": {},
     "output_type": "display_data"
    },
    {
     "data": {
      "text/html": [
       "<pre style=\"white-space:pre;overflow-x:auto;line-height:normal;font-family:Menlo,'DejaVu Sans Mono',consolas,'Courier New',monospace\">┏━━━━━━━━━━━━━━━━━━━━━━━━━━━━━━━━━┳━━━━━━━━━━━━━━━━━━━━━━━━┳━━━━━━━━━━━━━━━┓\n",
       "┃<span style=\"font-weight: bold\"> Layer (type)                    </span>┃<span style=\"font-weight: bold\"> Output Shape           </span>┃<span style=\"font-weight: bold\">       Param # </span>┃\n",
       "┡━━━━━━━━━━━━━━━━━━━━━━━━━━━━━━━━━╇━━━━━━━━━━━━━━━━━━━━━━━━╇━━━━━━━━━━━━━━━┩\n",
       "│ dense (<span style=\"color: #0087ff; text-decoration-color: #0087ff\">Dense</span>)                   │ (<span style=\"color: #00d7ff; text-decoration-color: #00d7ff\">None</span>, <span style=\"color: #00af00; text-decoration-color: #00af00\">16</span>)             │            <span style=\"color: #00af00; text-decoration-color: #00af00\">32</span> │\n",
       "├─────────────────────────────────┼────────────────────────┼───────────────┤\n",
       "│ dense_1 (<span style=\"color: #0087ff; text-decoration-color: #0087ff\">Dense</span>)                 │ (<span style=\"color: #00d7ff; text-decoration-color: #00d7ff\">None</span>, <span style=\"color: #00af00; text-decoration-color: #00af00\">32</span>)             │           <span style=\"color: #00af00; text-decoration-color: #00af00\">544</span> │\n",
       "├─────────────────────────────────┼────────────────────────┼───────────────┤\n",
       "│ dense_2 (<span style=\"color: #0087ff; text-decoration-color: #0087ff\">Dense</span>)                 │ (<span style=\"color: #00d7ff; text-decoration-color: #00d7ff\">None</span>, <span style=\"color: #00af00; text-decoration-color: #00af00\">2</span>)              │            <span style=\"color: #00af00; text-decoration-color: #00af00\">66</span> │\n",
       "└─────────────────────────────────┴────────────────────────┴───────────────┘\n",
       "</pre>\n"
      ],
      "text/plain": [
       "┏━━━━━━━━━━━━━━━━━━━━━━━━━━━━━━━━━┳━━━━━━━━━━━━━━━━━━━━━━━━┳━━━━━━━━━━━━━━━┓\n",
       "┃\u001b[1m \u001b[0m\u001b[1mLayer (type)                   \u001b[0m\u001b[1m \u001b[0m┃\u001b[1m \u001b[0m\u001b[1mOutput Shape          \u001b[0m\u001b[1m \u001b[0m┃\u001b[1m \u001b[0m\u001b[1m      Param #\u001b[0m\u001b[1m \u001b[0m┃\n",
       "┡━━━━━━━━━━━━━━━━━━━━━━━━━━━━━━━━━╇━━━━━━━━━━━━━━━━━━━━━━━━╇━━━━━━━━━━━━━━━┩\n",
       "│ dense (\u001b[38;5;33mDense\u001b[0m)                   │ (\u001b[38;5;45mNone\u001b[0m, \u001b[38;5;34m16\u001b[0m)             │            \u001b[38;5;34m32\u001b[0m │\n",
       "├─────────────────────────────────┼────────────────────────┼───────────────┤\n",
       "│ dense_1 (\u001b[38;5;33mDense\u001b[0m)                 │ (\u001b[38;5;45mNone\u001b[0m, \u001b[38;5;34m32\u001b[0m)             │           \u001b[38;5;34m544\u001b[0m │\n",
       "├─────────────────────────────────┼────────────────────────┼───────────────┤\n",
       "│ dense_2 (\u001b[38;5;33mDense\u001b[0m)                 │ (\u001b[38;5;45mNone\u001b[0m, \u001b[38;5;34m2\u001b[0m)              │            \u001b[38;5;34m66\u001b[0m │\n",
       "└─────────────────────────────────┴────────────────────────┴───────────────┘\n"
      ]
     },
     "metadata": {},
     "output_type": "display_data"
    },
    {
     "data": {
      "text/html": [
       "<pre style=\"white-space:pre;overflow-x:auto;line-height:normal;font-family:Menlo,'DejaVu Sans Mono',consolas,'Courier New',monospace\"><span style=\"font-weight: bold\"> Total params: </span><span style=\"color: #00af00; text-decoration-color: #00af00\">1,286</span> (5.03 KB)\n",
       "</pre>\n"
      ],
      "text/plain": [
       "\u001b[1m Total params: \u001b[0m\u001b[38;5;34m1,286\u001b[0m (5.03 KB)\n"
      ]
     },
     "metadata": {},
     "output_type": "display_data"
    },
    {
     "data": {
      "text/html": [
       "<pre style=\"white-space:pre;overflow-x:auto;line-height:normal;font-family:Menlo,'DejaVu Sans Mono',consolas,'Courier New',monospace\"><span style=\"font-weight: bold\"> Trainable params: </span><span style=\"color: #00af00; text-decoration-color: #00af00\">642</span> (2.51 KB)\n",
       "</pre>\n"
      ],
      "text/plain": [
       "\u001b[1m Trainable params: \u001b[0m\u001b[38;5;34m642\u001b[0m (2.51 KB)\n"
      ]
     },
     "metadata": {},
     "output_type": "display_data"
    },
    {
     "data": {
      "text/html": [
       "<pre style=\"white-space:pre;overflow-x:auto;line-height:normal;font-family:Menlo,'DejaVu Sans Mono',consolas,'Courier New',monospace\"><span style=\"font-weight: bold\"> Non-trainable params: </span><span style=\"color: #00af00; text-decoration-color: #00af00\">0</span> (0.00 B)\n",
       "</pre>\n"
      ],
      "text/plain": [
       "\u001b[1m Non-trainable params: \u001b[0m\u001b[38;5;34m0\u001b[0m (0.00 B)\n"
      ]
     },
     "metadata": {},
     "output_type": "display_data"
    },
    {
     "data": {
      "text/html": [
       "<pre style=\"white-space:pre;overflow-x:auto;line-height:normal;font-family:Menlo,'DejaVu Sans Mono',consolas,'Courier New',monospace\"><span style=\"font-weight: bold\"> Optimizer params: </span><span style=\"color: #00af00; text-decoration-color: #00af00\">644</span> (2.52 KB)\n",
       "</pre>\n"
      ],
      "text/plain": [
       "\u001b[1m Optimizer params: \u001b[0m\u001b[38;5;34m644\u001b[0m (2.52 KB)\n"
      ]
     },
     "metadata": {},
     "output_type": "display_data"
    }
   ],
   "source": [
    "# model reconstruction from JSON\n",
    "from tensorflow.keras.models import model_from_json\n",
    "model_architecture = model_from_json(json_string)\n",
    "\n",
    "# model reconstruction from YAML\n",
    "# from tensorflow.keras.models import model_from_yaml\n",
    "# model = model_from_yaml(yaml_string)\n",
    "\n",
    "model_architecture.summary()"
   ]
  },
  {
   "cell_type": "markdown",
   "metadata": {},
   "source": [
    "#### **3. model.save_weights()**\n",
    "If you only need to save the weigts of a model, you can use the following fuction save the weights only."
   ]
  },
  {
   "cell_type": "code",
   "execution_count": 55,
   "metadata": {},
   "outputs": [],
   "source": [
    "# Check first to see if file exists already.\n",
    "# If not, the weights are saved to disk.\n",
    "\n",
    "import os.path\n",
    "if os.path.isfile(\"models/my_model.weights.h5\") is False:\n",
    "    model.save_weights(\"models/my_model.weights.h5\")"
   ]
  },
  {
   "cell_type": "code",
   "execution_count": 56,
   "metadata": {},
   "outputs": [
    {
     "name": "stderr",
     "output_type": "stream",
     "text": [
      "/Users/kubzal/tensorflow_keras/env/lib/python3.12/site-packages/keras/src/layers/core/dense.py:87: UserWarning: Do not pass an `input_shape`/`input_dim` argument to a layer. When using Sequential models, prefer using an `Input(shape)` object as the first layer in the model instead.\n",
      "  super().__init__(activity_regularizer=activity_regularizer, **kwargs)\n"
     ]
    }
   ],
   "source": [
    "model2 = Sequential(\n",
    "    [\n",
    "        Dense(units=16, input_shape=(1,), activation=\"relu\"),\n",
    "        Dense(units=32, activation=\"relu\"),\n",
    "        Dense(units=2, activation=\"softmax\"),\n",
    "    ]\n",
    ")"
   ]
  },
  {
   "cell_type": "code",
   "execution_count": 57,
   "metadata": {},
   "outputs": [],
   "source": [
    "model2.load_weights(\"models/my_model.weights.h5\")"
   ]
  },
  {
   "cell_type": "code",
   "execution_count": 58,
   "metadata": {},
   "outputs": [],
   "source": [
    "model2.load_weights(\"models/my_model.weights.h5\")"
   ]
  },
  {
   "cell_type": "code",
   "execution_count": 60,
   "metadata": {},
   "outputs": [
    {
     "data": {
      "text/plain": [
       "[array([[ 2.7195922e-01,  2.7729267e-01, -1.5948507e-01,  2.4409623e-01,\n",
       "         -4.0745670e-01,  5.8019888e-01,  4.6914348e-01,  1.0100777e-05,\n",
       "         -9.2161894e-03,  3.9938971e-01, -2.6507556e-02,  4.6812894e-04,\n",
       "         -1.7353693e-01, -7.6949835e-02, -5.5766106e-04, -5.4803854e-01]],\n",
       "       dtype=float32),\n",
       " array([-0.1085396 , -0.11533346,  0.        ,  0.1564037 ,  0.        ,\n",
       "        -0.15501794, -0.12145576, -0.00137475,  0.        , -0.14224476,\n",
       "         0.        , -0.00192856,  0.        ,  0.        ,  0.        ,\n",
       "         0.        ], dtype=float32),\n",
       " array([[-8.68847817e-02, -3.69961560e-02,  2.55636692e-01,\n",
       "         -5.28289020e-01, -4.66086924e-01,  4.26100880e-01,\n",
       "          4.20250371e-02, -1.16046749e-01,  3.52752954e-01,\n",
       "         -3.54248375e-01,  3.90967131e-02,  5.91757596e-01,\n",
       "          6.47287786e-01,  1.79997757e-01, -7.08821476e-01,\n",
       "          2.07936898e-01,  5.59457660e-01,  4.98828143e-01,\n",
       "         -5.06476462e-02, -7.63448298e-01, -4.59008187e-01,\n",
       "          6.96899071e-02, -1.48548931e-01, -4.80166703e-01,\n",
       "          5.05811572e-01,  6.94749057e-01,  2.19672471e-01,\n",
       "         -4.31036949e-03,  5.83524466e-01, -3.03605139e-01,\n",
       "          4.22146767e-01, -6.63981378e-01],\n",
       "        [-3.39855045e-01, -3.74278426e-02,  9.29996073e-02,\n",
       "         -2.43972942e-01, -4.35682654e-01,  5.93093753e-01,\n",
       "          3.47221881e-01,  3.01249892e-01,  5.33857703e-01,\n",
       "         -6.70148656e-02,  4.02848870e-01,  3.34188789e-01,\n",
       "          7.26877630e-01,  6.22064173e-01, -7.65925646e-01,\n",
       "          2.53492326e-01,  2.46353015e-01,  1.26096487e-01,\n",
       "         -1.74495324e-01, -3.88240367e-01, -4.94309038e-01,\n",
       "          3.41781706e-01, -7.51158774e-01, -4.21725094e-01,\n",
       "          4.64444697e-01,  6.86717033e-01, -6.69948459e-02,\n",
       "          1.01257861e-02,  6.19786799e-01, -4.06460762e-02,\n",
       "          6.58850849e-01, -4.19376075e-01],\n",
       "        [ 7.06468821e-02,  2.24003404e-01,  2.50431091e-01,\n",
       "         -3.52649599e-01, -9.06818807e-02, -9.96879041e-02,\n",
       "         -2.66724378e-01, -2.66037643e-01,  2.08317369e-01,\n",
       "         -3.70559394e-02, -2.79793113e-01,  2.80373544e-01,\n",
       "         -1.84975103e-01, -9.53920484e-02,  2.44538933e-01,\n",
       "         -9.42610800e-02,  1.09946966e-01,  1.73242062e-01,\n",
       "          2.18650997e-02, -1.62841171e-01,  1.78932756e-01,\n",
       "         -2.50899434e-01, -3.06630880e-01,  7.19690323e-03,\n",
       "         -3.52927685e-01,  9.92003083e-03, -4.50617969e-02,\n",
       "          3.15562278e-01,  2.30965465e-01,  1.77026778e-01,\n",
       "          1.69785708e-01, -2.08752498e-01],\n",
       "        [-2.90089279e-01, -4.83583137e-02,  2.35889778e-01,\n",
       "          3.33844215e-01, -3.05889118e-02,  1.78540990e-01,\n",
       "         -6.64133132e-02,  1.75658211e-01,  3.57820600e-01,\n",
       "          1.59980759e-01,  2.08026558e-01, -1.07610330e-01,\n",
       "          3.00762415e-01,  4.36970927e-02,  2.18952119e-01,\n",
       "          2.73020357e-01, -1.79649964e-02, -1.08157888e-01,\n",
       "          6.66119978e-02,  1.41171515e-01,  2.85208344e-01,\n",
       "         -1.91533174e-02, -2.11288035e-01,  2.31662273e-01,\n",
       "          1.84824109e-01,  3.60360771e-01, -2.83121347e-01,\n",
       "         -2.35154629e-01,  3.05762112e-01, -2.32482534e-02,\n",
       "          3.09125155e-01,  2.04043448e-01],\n",
       "        [ 9.97903943e-03, -4.29290831e-02,  1.82102054e-01,\n",
       "         -1.46961004e-01, -2.26760492e-01, -1.90956667e-01,\n",
       "          4.59415913e-02, -7.03308582e-02, -2.65443712e-01,\n",
       "         -1.87925100e-02, -1.98875472e-01,  2.70312756e-01,\n",
       "         -3.44903260e-01,  2.34151870e-01,  1.59656554e-01,\n",
       "          7.23145604e-02,  1.89290434e-01, -6.19727373e-03,\n",
       "          1.02802902e-01, -1.24871835e-01, -6.57994151e-02,\n",
       "          1.49928480e-01, -1.14347681e-01,  2.33055949e-02,\n",
       "          3.39187533e-01, -4.27065492e-02,  6.71943128e-02,\n",
       "          1.44725293e-01, -1.07397422e-01, -1.73142627e-01,\n",
       "         -3.41153711e-01, -1.97142303e-01],\n",
       "        [ 1.89806521e-01, -1.61348164e-01,  4.33702439e-01,\n",
       "         -2.56377995e-01, -2.36759767e-01,  4.92490351e-01,\n",
       "         -7.10570393e-03, -2.83372879e-01,  3.97872418e-01,\n",
       "         -1.86536580e-01,  1.07624464e-01,  2.60388404e-01,\n",
       "          5.98007977e-01,  3.81428361e-01, -3.98404419e-01,\n",
       "          3.41425210e-01,  4.93410856e-01,  3.36510360e-01,\n",
       "          2.27274261e-02, -6.16313159e-01, -6.20970607e-01,\n",
       "          3.24642807e-01, -2.36870170e-01, -4.25510891e-02,\n",
       "          5.44149220e-01,  3.51432681e-01, -3.35488915e-01,\n",
       "         -2.54691303e-01,  3.84194255e-01,  1.18922666e-01,\n",
       "          6.17977440e-01, -4.47710603e-01],\n",
       "        [ 2.95168668e-01,  1.27112195e-01,  3.45641315e-01,\n",
       "         -4.80935760e-02, -2.65430838e-01,  3.15959662e-01,\n",
       "         -2.56508067e-02, -2.71716863e-01,  4.30055827e-01,\n",
       "         -5.97835660e-01,  3.16120803e-01,  5.00475526e-01,\n",
       "         -5.98744974e-02,  3.50241289e-02, -5.70153780e-02,\n",
       "          4.43942189e-01,  3.75446200e-01,  4.18695003e-01,\n",
       "         -2.23353848e-01, -2.91134447e-01, -2.91141272e-01,\n",
       "          5.95359147e-01, -1.03890203e-01, -2.15234011e-02,\n",
       "          3.19497474e-02,  3.61007214e-01, -3.13805282e-01,\n",
       "         -2.30700076e-02,  5.28319478e-01, -2.80852866e-04,\n",
       "          5.63109398e-01, -2.33279899e-01],\n",
       "        [ 2.22350717e-01, -2.58126855e-01, -2.35306248e-01,\n",
       "          2.45706528e-01, -1.91945821e-01, -3.16594303e-01,\n",
       "         -1.06381916e-01,  6.89418241e-02, -2.73418576e-01,\n",
       "         -3.07587832e-01, -3.13012302e-01,  4.11036313e-02,\n",
       "          1.45789638e-01, -6.10561743e-02, -3.19645405e-01,\n",
       "          2.26054803e-01,  1.16293862e-01,  2.45599195e-01,\n",
       "         -1.46449059e-01, -1.31019562e-01,  2.62842476e-01,\n",
       "          2.58508265e-01, -1.34107918e-01, -5.47850281e-02,\n",
       "         -5.17225545e-03,  2.19404057e-01, -3.51214558e-01,\n",
       "         -1.96984500e-01, -2.44959861e-01,  1.39917940e-01,\n",
       "         -2.34790236e-01,  1.07805245e-01],\n",
       "        [-5.66745996e-02, -3.48922044e-01,  8.23706985e-02,\n",
       "         -8.42638612e-02, -1.74534231e-01, -2.44689256e-01,\n",
       "         -2.22476274e-01,  3.22542995e-01, -2.31176972e-01,\n",
       "          1.35051399e-01, -2.83454061e-01,  9.55904722e-02,\n",
       "          2.33052343e-01, -2.94239789e-01, -1.83054641e-01,\n",
       "         -1.95575535e-01,  2.85933048e-01, -1.00781977e-01,\n",
       "          2.82056004e-01, -3.41657609e-01, -3.47037226e-01,\n",
       "          2.93877333e-01, -5.11087775e-02,  8.13671947e-02,\n",
       "         -6.47918582e-02,  6.22500479e-02, -2.44329154e-01,\n",
       "         -4.94434834e-02, -2.93867379e-01,  3.10958534e-01,\n",
       "         -9.47721601e-02,  2.42910296e-01],\n",
       "        [-1.89332515e-01, -2.00224683e-01,  4.04456228e-01,\n",
       "         -4.90516238e-02, -1.31306976e-01,  1.61041647e-01,\n",
       "         -2.60428667e-01,  2.99914777e-01,  1.75361291e-01,\n",
       "         -9.35562477e-02,  5.78290820e-01,  2.67953336e-01,\n",
       "          3.20205331e-01,  3.94391567e-01, -6.25048816e-01,\n",
       "          2.38610670e-01,  2.80918600e-03,  4.58562106e-01,\n",
       "         -3.23249876e-01, -8.83321539e-02, -3.98766518e-01,\n",
       "          5.44437647e-01, -1.55812606e-01, -1.94458202e-01,\n",
       "          1.96879297e-01,  5.13302386e-01, -8.40434432e-03,\n",
       "         -2.22489253e-01,  2.50184894e-01, -2.96357363e-01,\n",
       "          3.40437174e-01, -6.55536711e-01],\n",
       "        [ 8.32214057e-02,  2.30047792e-01,  6.13125265e-02,\n",
       "          1.95922464e-01,  1.63735539e-01,  1.64310068e-01,\n",
       "         -9.75874960e-02,  2.72614509e-01,  1.73776001e-01,\n",
       "          1.25301778e-02, -3.42389703e-01,  3.37873489e-01,\n",
       "          8.84278715e-02, -1.84224129e-01, -3.13036025e-01,\n",
       "          3.09886336e-02,  1.84292346e-01,  1.57082051e-01,\n",
       "         -3.55932713e-02, -1.03775233e-01, -2.97803134e-01,\n",
       "          8.50439072e-03, -1.45131484e-01,  3.41997117e-01,\n",
       "         -2.98587412e-01, -1.21559262e-01,  2.02305287e-01,\n",
       "          3.46377641e-01,  5.74096441e-02, -6.62915111e-02,\n",
       "         -2.38100857e-01,  2.84171432e-01],\n",
       "        [-1.68004975e-01, -2.55249321e-01, -1.38802573e-01,\n",
       "          3.84658165e-02,  1.90477818e-01, -2.64128149e-01,\n",
       "         -1.39545172e-01,  2.57084757e-01, -9.63649601e-02,\n",
       "          1.82694271e-01, -3.28304619e-01,  2.75935441e-01,\n",
       "          3.23001534e-01, -2.82959640e-01,  1.68241560e-01,\n",
       "         -7.23376572e-02, -1.62782282e-01, -1.53110325e-01,\n",
       "          7.29683787e-02, -2.20107079e-01,  1.44717485e-01,\n",
       "         -2.52002716e-01, -6.98745102e-02, -2.00324714e-01,\n",
       "         -3.87692899e-02, -1.95047949e-02, -4.10099030e-02,\n",
       "          2.89962798e-01,  5.45861572e-02,  3.53707373e-02,\n",
       "          1.01456523e-01, -1.35420159e-01],\n",
       "        [ 3.01870733e-01,  1.56460315e-01, -2.07481846e-01,\n",
       "          9.84585881e-02, -4.41116095e-03, -9.04753804e-02,\n",
       "          1.76404685e-01, -4.08655405e-03, -1.36134654e-01,\n",
       "          2.59495109e-01, -5.14088571e-02,  8.64268243e-02,\n",
       "          4.80874479e-02, -3.18172574e-02, -2.56464243e-01,\n",
       "         -1.05930790e-01, -1.25918850e-01, -1.15950614e-01,\n",
       "          1.28837615e-01,  7.57360458e-02, -9.99051332e-02,\n",
       "         -2.58537233e-02,  2.95923948e-02, -1.74453646e-01,\n",
       "         -2.83891976e-01,  1.15410030e-01,  2.72727281e-01,\n",
       "         -2.06957713e-01, -3.03546399e-01,  3.24686736e-01,\n",
       "          3.31974357e-01,  2.57432163e-02],\n",
       "        [-4.53647673e-02,  2.08158284e-01, -7.67488182e-02,\n",
       "         -3.33541632e-02,  3.14122289e-01, -7.41814077e-02,\n",
       "          9.00652707e-02, -1.76738083e-01, -2.09425986e-02,\n",
       "         -2.12324694e-01, -3.31708074e-01,  2.65439004e-01,\n",
       "          1.74239844e-01,  7.48078823e-02,  6.40317798e-02,\n",
       "         -2.43426532e-01,  2.98238367e-01,  3.17706198e-01,\n",
       "          2.85105377e-01,  2.47943491e-01, -6.51462972e-02,\n",
       "         -3.06678504e-01,  1.73053294e-01, -4.85723913e-02,\n",
       "          8.26712251e-02, -3.38234425e-01,  3.21761757e-01,\n",
       "         -1.47551134e-01,  2.79830694e-02,  7.44926035e-02,\n",
       "         -1.29929289e-01, -2.57519603e-01],\n",
       "        [ 3.51681381e-01, -9.75941420e-02,  2.25142032e-01,\n",
       "          5.49329221e-02,  1.12176269e-01,  3.50166827e-01,\n",
       "          2.48252004e-01, -2.79736459e-01, -7.13978708e-02,\n",
       "         -3.07501465e-01,  1.87749058e-01, -1.41964152e-01,\n",
       "          4.12035286e-02, -2.36876488e-01, -1.66727453e-01,\n",
       "          1.61238998e-01, -5.62790930e-02, -2.93359160e-01,\n",
       "         -3.23580146e-01,  2.61182398e-01,  4.75983620e-02,\n",
       "         -2.41247803e-01,  8.11477602e-02, -2.32824668e-01,\n",
       "          1.83997184e-01,  2.64761597e-01,  4.31716144e-02,\n",
       "          1.73392564e-01,  6.91045523e-02, -1.52534083e-01,\n",
       "         -2.62030333e-01, -1.44018054e-01],\n",
       "        [-3.66137326e-02,  2.02029377e-01, -3.15710664e-01,\n",
       "         -9.85080600e-02,  1.37908369e-01, -6.44040108e-02,\n",
       "         -2.83491492e-01, -2.62189478e-01, -2.68929601e-01,\n",
       "          9.10368562e-02,  2.98386365e-01,  3.33140582e-01,\n",
       "         -1.50053397e-01,  1.58561140e-01,  3.20134133e-01,\n",
       "          2.87891477e-01, -2.36265957e-02, -2.23566949e-01,\n",
       "         -1.45192176e-01,  1.23312742e-01,  2.18397349e-01,\n",
       "          2.63440877e-01, -9.52764153e-02,  3.02228332e-02,\n",
       "          2.83888966e-01, -3.13097626e-01,  1.37435138e-01,\n",
       "         -1.91532478e-01, -1.88395903e-01,  3.00709993e-01,\n",
       "         -3.36259186e-01,  1.70564502e-01]], dtype=float32),\n",
       " array([ 0.01085143, -0.0017566 , -0.14154191,  0.20884039,  0.20080757,\n",
       "        -0.12360825, -0.00051127, -0.05012919, -0.1492806 ,  0.19505385,\n",
       "        -0.11974648, -0.06269928, -0.14426266, -0.08111222,  0.22786704,\n",
       "        -0.13827945, -0.08762507, -0.06503894,  0.20190902,  0.2551791 ,\n",
       "         0.2617813 , -0.09870899,  0.23310909,  0.20641068, -0.11728332,\n",
       "        -0.15567487,  0.        ,  0.        , -0.15852934, -0.00225926,\n",
       "        -0.16313124,  0.2562442 ], dtype=float32),\n",
       " array([[ 0.23246165,  0.2144747 ],\n",
       "        [-0.27871186,  0.12229756],\n",
       "        [-0.23386104,  0.37259832],\n",
       "        [ 0.41363844, -0.24033107],\n",
       "        [ 0.650286  , -0.8187654 ],\n",
       "        [-0.679298  ,  0.5065362 ],\n",
       "        [-0.00455229,  0.09265608],\n",
       "        [-0.20911662,  0.00934666],\n",
       "        [-0.6230733 ,  0.317466  ],\n",
       "        [ 0.798149  , -0.52722955],\n",
       "        [-0.6421765 ,  0.58938086],\n",
       "        [-0.67599434,  0.69678295],\n",
       "        [-0.6571171 , -0.04823221],\n",
       "        [-0.7521753 ,  0.27969834],\n",
       "        [ 0.8903293 , -0.91120034],\n",
       "        [ 0.14476801,  0.44475842],\n",
       "        [-0.7019513 , -0.02696713],\n",
       "        [-0.6966716 ,  0.33705893],\n",
       "        [ 0.5541451 , -0.27963033],\n",
       "        [ 0.7842664 , -0.53113693],\n",
       "        [ 0.6345377 , -0.54556817],\n",
       "        [-0.13075233,  0.6104328 ],\n",
       "        [ 0.79697114, -0.19858202],\n",
       "        [ 0.33649406, -0.22299993],\n",
       "        [-0.52277726,  0.5521278 ],\n",
       "        [-0.35931295,  0.36027837],\n",
       "        [-0.05200332,  0.25980625],\n",
       "        [ 0.09863177, -0.14643756],\n",
       "        [-0.40709937,  0.17222443],\n",
       "        [ 0.08713484,  0.18615675],\n",
       "        [-0.64834374, -0.12299712],\n",
       "        [ 0.5937233 , -0.6278555 ]], dtype=float32),\n",
       " array([ 0.18851124, -0.18851124], dtype=float32)]"
      ]
     },
     "execution_count": 60,
     "metadata": {},
     "output_type": "execute_result"
    }
   ],
   "source": [
    "model2.get_weights()"
   ]
  }
 ],
 "metadata": {
  "kernelspec": {
   "display_name": "env",
   "language": "python",
   "name": "python3"
  },
  "language_info": {
   "codemirror_mode": {
    "name": "ipython",
    "version": 3
   },
   "file_extension": ".py",
   "mimetype": "text/x-python",
   "name": "python",
   "nbconvert_exporter": "python",
   "pygments_lexer": "ipython3",
   "version": "3.12.4"
  }
 },
 "nbformat": 4,
 "nbformat_minor": 2
}
